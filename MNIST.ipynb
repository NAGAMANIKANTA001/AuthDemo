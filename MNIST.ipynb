{
  "nbformat": 4,
  "nbformat_minor": 0,
  "metadata": {
    "kernelspec": {
      "display_name": "Python 3",
      "language": "python",
      "name": "python3"
    },
    "language_info": {
      "codemirror_mode": {
        "name": "ipython",
        "version": 3
      },
      "file_extension": ".py",
      "mimetype": "text/x-python",
      "name": "python",
      "nbconvert_exporter": "python",
      "pygments_lexer": "ipython3",
      "version": "3.6.5"
    },
    "colab": {
      "provenance": [],
      "toc_visible": true,
      "include_colab_link": true
    },
    "accelerator": "GPU"
  },
  "cells": [
    {
      "cell_type": "markdown",
      "metadata": {
        "id": "view-in-github",
        "colab_type": "text"
      },
      "source": [
        "<a href=\"https://colab.research.google.com/github/NAGAMANIKANTA001/AuthDemo/blob/main/MNIST.ipynb\" target=\"_parent\"><img src=\"https://colab.research.google.com/assets/colab-badge.svg\" alt=\"Open In Colab\"/></a>"
      ]
    },
    {
      "cell_type": "markdown",
      "metadata": {
        "id": "Whf_8TEO-6qX"
      },
      "source": [
        "# CAP 6619 - Deep Learning - Dr Marques\n",
        "## Project 1\n",
        "## Handwritten Digit Classifier Using the MNIST Dataset"
      ]
    },
    {
      "cell_type": "markdown",
      "metadata": {
        "id": "32AXUOrLxvoD"
      },
      "source": [
        "Useful references and sources:\n",
        "\n",
        "- https://www.tensorflow.org/datasets/catalog/mnist\n",
        "\n",
        "- https://en.wikipedia.org/wiki/MNIST_database \n",
        "\n",
        "- https://keras.io/examples/vision/mnist_convnet/\n",
        "\n",
        "- https://github.com/the-deep-learners/deep-learning-illustrated/blob/master/notebooks/shallow_net_in_keras.ipynb "
      ]
    },
    {
      "cell_type": "markdown",
      "metadata": {
        "id": "o_i0NIxeykr0"
      },
      "source": [
        "### (OPTIONAL) TODO 1\n",
        "\n",
        "Add your own sources and references here."
      ]
    },
    {
      "cell_type": "markdown",
      "metadata": {
        "id": "2u-hfaHC-6qb"
      },
      "source": [
        "## Setup"
      ]
    },
    {
      "cell_type": "code",
      "metadata": {
        "id": "1H7CSr4a-6qb"
      },
      "source": [
        "from tensorflow import keras\n",
        "from keras.datasets import mnist\n",
        "from keras.models import Sequential\n",
        "from keras.layers import Dense\n",
        "from tensorflow.keras.optimizers import SGD\n",
        "\n",
        "from tensorflow.keras import layers\n",
        "\n",
        "from matplotlib import pyplot as plt\n",
        "\n",
        "import numpy as np"
      ],
      "execution_count": null,
      "outputs": []
    },
    {
      "cell_type": "markdown",
      "metadata": {
        "id": "dxNd2jV5-6qg"
      },
      "source": [
        "## Load and prepare the data"
      ]
    },
    {
      "cell_type": "code",
      "metadata": {
        "id": "AL5uSsG5EoEw",
        "colab": {
          "base_uri": "https://localhost:8080/"
        },
        "outputId": "d01ac5c1-3042-45c5-9135-992a650c43dd"
      },
      "source": [
        "# Model / data parameters\n",
        "num_classes = 10\n",
        "input_shape = (28, 28, 1)\n",
        "\n",
        "# the data, split between train and validation sets\n",
        "(X_train, y_train), (X_valid, y_valid) = mnist.load_data()"
      ],
      "execution_count": null,
      "outputs": [
        {
          "output_type": "stream",
          "name": "stdout",
          "text": [
            "Downloading data from https://storage.googleapis.com/tensorflow/tf-keras-datasets/mnist.npz\n",
            "11490434/11490434 [==============================] - 2s 0us/step\n"
          ]
        }
      ]
    },
    {
      "cell_type": "code",
      "metadata": {
        "id": "x2jsR31jEqYn",
        "colab": {
          "base_uri": "https://localhost:8080/"
        },
        "outputId": "3ce00532-8620-4798-9d37-73f7ea690297"
      },
      "source": [
        "X_train.shape"
      ],
      "execution_count": null,
      "outputs": [
        {
          "output_type": "execute_result",
          "data": {
            "text/plain": [
              "(60000, 28, 28)"
            ]
          },
          "metadata": {},
          "execution_count": 3
        }
      ]
    },
    {
      "cell_type": "code",
      "metadata": {
        "id": "EOXe9zdD-6qp",
        "colab": {
          "base_uri": "https://localhost:8080/"
        },
        "outputId": "011b5c38-3afe-4b6f-b584-d9d592027371"
      },
      "source": [
        "y_train.shape"
      ],
      "execution_count": null,
      "outputs": [
        {
          "output_type": "execute_result",
          "data": {
            "text/plain": [
              "(60000,)"
            ]
          },
          "metadata": {},
          "execution_count": 4
        }
      ]
    },
    {
      "cell_type": "code",
      "metadata": {
        "id": "99XuEIZf-6qr",
        "colab": {
          "base_uri": "https://localhost:8080/"
        },
        "outputId": "195b6205-044f-4843-b750-5b494cc433cf"
      },
      "source": [
        "y_train[0:12]"
      ],
      "execution_count": null,
      "outputs": [
        {
          "output_type": "execute_result",
          "data": {
            "text/plain": [
              "array([5, 0, 4, 1, 9, 2, 1, 3, 1, 4, 3, 5], dtype=uint8)"
            ]
          },
          "metadata": {},
          "execution_count": 5
        }
      ]
    },
    {
      "cell_type": "code",
      "metadata": {
        "id": "Rcidoo4X-6qt",
        "colab": {
          "base_uri": "https://localhost:8080/",
          "height": 327
        },
        "outputId": "09dc0ac6-5114-4b59-d5a8-620441f9bddc"
      },
      "source": [
        "plt.figure(figsize=(5,5))\n",
        "for k in range(12):\n",
        "    plt.subplot(3, 4, k+1)\n",
        "    plt.imshow(X_train[k], cmap='Greys')\n",
        "    plt.axis('off')\n",
        "plt.tight_layout()\n",
        "plt.show()"
      ],
      "execution_count": null,
      "outputs": [
        {
          "output_type": "display_data",
          "data": {
            "text/plain": [
              "<Figure size 360x360 with 12 Axes>"
            ],
            "image/png": "[encoded data removed]"
          },
          "metadata": {
            "needs_background": "light"
          }
        }
      ]
    },
    {
      "cell_type": "code",
      "metadata": {
        "id": "xL2vkR3jO2md",
        "colab": {
          "base_uri": "https://localhost:8080/"
        },
        "outputId": "8f0cb244-6f1c-4c49-b47f-29892ce6ce9e"
      },
      "source": [
        "X_valid.shape"
      ],
      "execution_count": null,
      "outputs": [
        {
          "output_type": "execute_result",
          "data": {
            "text/plain": [
              "(10000, 28, 28)"
            ]
          },
          "metadata": {},
          "execution_count": 7
        }
      ]
    },
    {
      "cell_type": "code",
      "metadata": {
        "id": "GKtAwVhYO34o",
        "colab": {
          "base_uri": "https://localhost:8080/"
        },
        "outputId": "05843720-5e85-4ea7-9043-fb4df28a0b0e"
      },
      "source": [
        "y_valid.shape"
      ],
      "execution_count": null,
      "outputs": [
        {
          "output_type": "execute_result",
          "data": {
            "text/plain": [
              "(10000,)"
            ]
          },
          "metadata": {},
          "execution_count": 8
        }
      ]
    },
    {
      "cell_type": "code",
      "metadata": {
        "id": "rITLTiol7eZH",
        "colab": {
          "base_uri": "https://localhost:8080/"
        },
        "outputId": "542661a5-a51a-4854-fa8b-f8850b959c7f"
      },
      "source": [
        "y_valid[0]"
      ],
      "execution_count": null,
      "outputs": [
        {
          "output_type": "execute_result",
          "data": {
            "text/plain": [
              "7"
            ]
          },
          "metadata": {},
          "execution_count": 9
        }
      ]
    },
    {
      "cell_type": "code",
      "metadata": {
        "id": "v7wsvxTt7iZO",
        "colab": {
          "base_uri": "https://localhost:8080/",
          "height": 248
        },
        "outputId": "614b3f5c-35fa-4e91-f6ba-5b6245158799"
      },
      "source": [
        "plt.imshow(X_valid[0], cmap='Greys')\n",
        "plt.axis('off')\n",
        "plt.show()"
      ],
      "execution_count": null,
      "outputs": [
        {
          "output_type": "display_data",
          "data": {
            "text/plain": [
              "<Figure size 432x288 with 1 Axes>"
            ],
            "image/png": "[encoded data removed]"
          },
          "metadata": {
            "needs_background": "light"
          }
        }
      ]
    },
    {
      "cell_type": "code",
      "metadata": {
        "id": "lKSraXzh-6qw",
        "colab": {
          "base_uri": "https://localhost:8080/"
        },
        "outputId": "9b317b9f-68b9-4e7b-bb03-5e10a5d9addc"
      },
      "source": [
        "# Reshape (flatten) images \n",
        "X_train_reshaped = X_train.reshape(60000, 784).astype('float32')\n",
        "X_valid_reshaped = X_valid.reshape(10000, 784).astype('float32')\n",
        "\n",
        "# Scale images to the [0, 1] range\n",
        "X_train_scaled_reshaped = X_train_reshaped / 255\n",
        "X_valid_scaled_reshaped = X_valid_reshaped / 255\n",
        "\n",
        "# Renaming for conciseness\n",
        "X_training = X_train_scaled_reshaped\n",
        "X_validation = X_valid_scaled_reshaped\n",
        "\n",
        "print(\"X_training shape (after reshaping + scaling):\", X_training.shape)\n",
        "print(X_training.shape[0], \"train samples\")\n",
        "print(\"X_validation shape (after reshaping + scaling):\", X_validation.shape)\n",
        "print(X_validation.shape[0], \"validation samples\")"
      ],
      "execution_count": null,
      "outputs": [
        {
          "output_type": "stream",
          "name": "stdout",
          "text": [
            "X_training shape (after reshaping + scaling): (60000, 784)\n",
            "60000 train samples\n",
            "X_validation shape (after reshaping + scaling): (10000, 784)\n",
            "10000 validation samples\n"
          ]
        }
      ]
    },
    {
      "cell_type": "code",
      "metadata": {
        "id": "amUBlLnG-6qz"
      },
      "source": [
        "# convert class vectors to binary class matrices\n",
        "y_training = keras.utils.to_categorical(y_train, num_classes)\n",
        "y_validation = keras.utils.to_categorical(y_valid, num_classes)"
      ],
      "execution_count": null,
      "outputs": []
    },
    {
      "cell_type": "code",
      "metadata": {
        "id": "QRX6auItPqtX",
        "colab": {
          "base_uri": "https://localhost:8080/"
        },
        "outputId": "cbcf30da-3920-45f4-da4e-3309b455285e"
      },
      "source": [
        "print(y_valid[0])\n",
        "print(y_validation[0])"
      ],
      "execution_count": null,
      "outputs": [
        {
          "output_type": "stream",
          "name": "stdout",
          "text": [
            "7\n",
            "[0. 0. 0. 0. 0. 0. 0. 1. 0. 0.]\n"
          ]
        }
      ]
    },
    {
      "cell_type": "markdown",
      "metadata": {
        "id": "BEn1cfWJ-6rH"
      },
      "source": [
        "## PART 1 - Shallow neural network architecture"
      ]
    },
    {
      "cell_type": "code",
      "metadata": {
        "id": "r7CsGuzIKvZd"
      },
      "source": [
        "model = Sequential()\n",
        "model.add(Dense(64, activation='sigmoid', input_shape=(784,)))\n",
        "model.add(Dense(10, activation='softmax'))"
      ],
      "execution_count": null,
      "outputs": []
    },
    {
      "cell_type": "code",
      "metadata": {
        "id": "wQTQzXvJ-6rJ",
        "colab": {
          "base_uri": "https://localhost:8080/"
        },
        "outputId": "d3f5cf86-4986-4476-d7f3-fe2753bf7024"
      },
      "source": [
        "model.summary()"
      ],
      "execution_count": null,
      "outputs": [
        {
          "output_type": "stream",
          "name": "stdout",
          "text": [
            "Model: \"sequential\"\n",
            "_________________________________________________________________\n",
            " Layer (type)                Output Shape              Param #   \n",
            "=================================================================\n",
            " dense (Dense)               (None, 64)                50240     \n",
            "                                                                 \n",
            " dense_1 (Dense)             (None, 10)                650       \n",
            "                                                                 \n",
            "=================================================================\n",
            "Total params: 50,890\n",
            "Trainable params: 50,890\n",
            "Non-trainable params: 0\n",
            "_________________________________________________________________\n"
          ]
        }
      ]
    },
    {
      "cell_type": "code",
      "metadata": {
        "id": "p0KPx8Di-6rO",
        "colab": {
          "base_uri": "https://localhost:8080/"
        },
        "outputId": "38a8a910-ab73-4125-eb89-205901280a13"
      },
      "source": [
        "(64*784)"
      ],
      "execution_count": null,
      "outputs": [
        {
          "output_type": "execute_result",
          "data": {
            "text/plain": [
              "50176"
            ]
          },
          "metadata": {},
          "execution_count": 16
        }
      ]
    },
    {
      "cell_type": "code",
      "metadata": {
        "id": "e7KDBMCS-6rQ",
        "colab": {
          "base_uri": "https://localhost:8080/"
        },
        "outputId": "49867c59-88f8-4536-d3dc-4492470b7f29"
      },
      "source": [
        "(64*784)+64"
      ],
      "execution_count": null,
      "outputs": [
        {
          "output_type": "execute_result",
          "data": {
            "text/plain": [
              "50240"
            ]
          },
          "metadata": {},
          "execution_count": 17
        }
      ]
    },
    {
      "cell_type": "code",
      "metadata": {
        "id": "ls_u6Lne-6rU",
        "colab": {
          "base_uri": "https://localhost:8080/"
        },
        "outputId": "441fc79c-8baa-4a7e-d4f2-04e57c8c94a1"
      },
      "source": [
        "(10*64)+10"
      ],
      "execution_count": null,
      "outputs": [
        {
          "output_type": "execute_result",
          "data": {
            "text/plain": [
              "650"
            ]
          },
          "metadata": {},
          "execution_count": 18
        }
      ]
    },
    {
      "cell_type": "markdown",
      "metadata": {
        "id": "eflqPyf9-6rW"
      },
      "source": [
        "### Configure model"
      ]
    },
    {
      "cell_type": "code",
      "metadata": {
        "id": "ZxAxL41M-6rX"
      },
      "source": [
        "model.compile(\n",
        "    loss='mean_squared_error', \n",
        "    optimizer=SGD(learning_rate=0.01), \n",
        "    metrics=['accuracy']\n",
        ")"
      ],
      "execution_count": null,
      "outputs": []
    },
    {
      "cell_type": "markdown",
      "metadata": {
        "id": "eK2qXanIRXee"
      },
      "source": [
        "### (OPTIONAL) TODO 2 \n",
        "\n",
        "Try different options for `loss` and `optimizer`, for example:\n",
        "```\n",
        "model.compile(\n",
        "  optimizer='adam',\n",
        "  loss='categorical_crossentropy',\n",
        "  metrics=['accuracy']\n",
        ")\n",
        "```"
      ]
    },
    {
      "cell_type": "markdown",
      "metadata": {
        "id": "DId95CJ_-6rY"
      },
      "source": [
        "### Train!"
      ]
    },
    {
      "cell_type": "code",
      "metadata": {
        "id": "OGws4yu8-6rZ",
        "colab": {
          "base_uri": "https://localhost:8080/"
        },
        "outputId": "424939f0-2efb-4a79-95b9-3aec76b4d1c3"
      },
      "source": [
        "batch_size=128\n",
        "epochs=500\n",
        "\n",
        "history = model.fit(\n",
        "  X_training, # training data\n",
        "  y_training, # training targets\n",
        "  epochs=epochs,\n",
        "  batch_size=batch_size,\n",
        "  verbose=1,\n",
        "  validation_data=(X_validation, y_validation)\n",
        ")"
      ],
      "execution_count": null,
      "outputs": [
        {
          "output_type": "stream",
          "name": "stdout",
          "text": [
            "Epoch 1/500\n",
            "469/469 [==============================] - 7s 7ms/step - loss: 0.0926 - accuracy: 0.1048 - val_loss: 0.0921 - val_accuracy: 0.1041\n",
            "Epoch 2/500\n",
            "469/469 [==============================] - 3s 7ms/step - loss: 0.0916 - accuracy: 0.1120 - val_loss: 0.0914 - val_accuracy: 0.1157\n",
            "Epoch 3/500\n",
            "469/469 [==============================] - 2s 4ms/step - loss: 0.0910 - accuracy: 0.1371 - val_loss: 0.0908 - val_accuracy: 0.1485\n",
            "Epoch 4/500\n",
            "469/469 [==============================] - 2s 4ms/step - loss: 0.0905 - accuracy: 0.1681 - val_loss: 0.0904 - val_accuracy: 0.1778\n",
            "Epoch 5/500\n",
            "469/469 [==============================] - 2s 4ms/step - loss: 0.0900 - accuracy: 0.1949 - val_loss: 0.0899 - val_accuracy: 0.2022\n",
            "Epoch 6/500\n",
            "469/469 [==============================] - 2s 4ms/step - loss: 0.0896 - accuracy: 0.2173 - val_loss: 0.0895 - val_accuracy: 0.2228\n",
            "Epoch 7/500\n",
            "469/469 [==============================] - 2s 4ms/step - loss: 0.0892 - accuracy: 0.2351 - val_loss: 0.0891 - val_accuracy: 0.2398\n",
            "Epoch 8/500\n",
            "469/469 [==============================] - 2s 4ms/step - loss: 0.0889 - accuracy: 0.2511 - val_loss: 0.0888 - val_accuracy: 0.2568\n",
            "Epoch 9/500\n",
            "469/469 [==============================] - 2s 4ms/step - loss: 0.0885 - accuracy: 0.2665 - val_loss: 0.0884 - val_accuracy: 0.2754\n",
            "Epoch 10/500\n",
            "469/469 [==============================] - 2s 4ms/step - loss: 0.0882 - accuracy: 0.2824 - val_loss: 0.0881 - val_accuracy: 0.2908\n",
            "Epoch 11/500\n",
            "469/469 [==============================] - 2s 4ms/step - loss: 0.0878 - accuracy: 0.2966 - val_loss: 0.0877 - val_accuracy: 0.3027\n",
            "Epoch 12/500\n",
            "469/469 [==============================] - 2s 3ms/step - loss: 0.0875 - accuracy: 0.3103 - val_loss: 0.0874 - val_accuracy: 0.3154\n",
            "Epoch 13/500\n",
            "469/469 [==============================] - 2s 4ms/step - loss: 0.0872 - accuracy: 0.3224 - val_loss: 0.0871 - val_accuracy: 0.3272\n",
            "Epoch 14/500\n",
            "469/469 [==============================] - 2s 3ms/step - loss: 0.0868 - accuracy: 0.3329 - val_loss: 0.0867 - val_accuracy: 0.3392\n",
            "Epoch 15/500\n",
            "469/469 [==============================] - 2s 3ms/step - loss: 0.0865 - accuracy: 0.3461 - val_loss: 0.0864 - val_accuracy: 0.3523\n",
            "Epoch 16/500\n",
            "469/469 [==============================] - 2s 3ms/step - loss: 0.0862 - accuracy: 0.3593 - val_loss: 0.0860 - val_accuracy: 0.3675\n",
            "Epoch 17/500\n",
            "469/469 [==============================] - 2s 3ms/step - loss: 0.0858 - accuracy: 0.3740 - val_loss: 0.0857 - val_accuracy: 0.3838\n",
            "Epoch 18/500\n",
            "469/469 [==============================] - 2s 3ms/step - loss: 0.0855 - accuracy: 0.3873 - val_loss: 0.0853 - val_accuracy: 0.3975\n",
            "Epoch 19/500\n",
            "469/469 [==============================] - 2s 4ms/step - loss: 0.0851 - accuracy: 0.4029 - val_loss: 0.0849 - val_accuracy: 0.4146\n",
            "Epoch 20/500\n",
            "469/469 [==============================] - 2s 5ms/step - loss: 0.0847 - accuracy: 0.4177 - val_loss: 0.0846 - val_accuracy: 0.4320\n",
            "Epoch 21/500\n",
            "469/469 [==============================] - 2s 3ms/step - loss: 0.0844 - accuracy: 0.4338 - val_loss: 0.0842 - val_accuracy: 0.4454\n",
            "Epoch 22/500\n",
            "469/469 [==============================] - 2s 4ms/step - loss: 0.0840 - accuracy: 0.4489 - val_loss: 0.0838 - val_accuracy: 0.4588\n",
            "Epoch 23/500\n",
            "469/469 [==============================] - 2s 4ms/step - loss: 0.0836 - accuracy: 0.4619 - val_loss: 0.0834 - val_accuracy: 0.4698\n",
            "Epoch 24/500\n",
            "469/469 [==============================] - 2s 4ms/step - loss: 0.0832 - accuracy: 0.4713 - val_loss: 0.0830 - val_accuracy: 0.4801\n",
            "Epoch 25/500\n",
            "469/469 [==============================] - 2s 4ms/step - loss: 0.0828 - accuracy: 0.4800 - val_loss: 0.0826 - val_accuracy: 0.4867\n",
            "Epoch 26/500\n",
            "469/469 [==============================] - 2s 4ms/step - loss: 0.0824 - accuracy: 0.4871 - val_loss: 0.0822 - val_accuracy: 0.4923\n",
            "Epoch 27/500\n",
            "469/469 [==============================] - 2s 4ms/step - loss: 0.0820 - accuracy: 0.4928 - val_loss: 0.0818 - val_accuracy: 0.4962\n",
            "Epoch 28/500\n",
            "469/469 [==============================] - 2s 4ms/step - loss: 0.0816 - accuracy: 0.4981 - val_loss: 0.0814 - val_accuracy: 0.5001\n",
            "Epoch 29/500\n",
            "469/469 [==============================] - 2s 3ms/step - loss: 0.0812 - accuracy: 0.5016 - val_loss: 0.0809 - val_accuracy: 0.5037\n",
            "Epoch 30/500\n",
            "469/469 [==============================] - 2s 3ms/step - loss: 0.0807 - accuracy: 0.5057 - val_loss: 0.0805 - val_accuracy: 0.5076\n",
            "Epoch 31/500\n",
            "469/469 [==============================] - 2s 3ms/step - loss: 0.0803 - accuracy: 0.5094 - val_loss: 0.0800 - val_accuracy: 0.5112\n",
            "Epoch 32/500\n",
            "469/469 [==============================] - 2s 4ms/step - loss: 0.0798 - accuracy: 0.5128 - val_loss: 0.0796 - val_accuracy: 0.5129\n",
            "Epoch 33/500\n",
            "469/469 [==============================] - 2s 4ms/step - loss: 0.0794 - accuracy: 0.5156 - val_loss: 0.0791 - val_accuracy: 0.5162\n",
            "Epoch 34/500\n",
            "469/469 [==============================] - 2s 3ms/step - loss: 0.0789 - accuracy: 0.5182 - val_loss: 0.0786 - val_accuracy: 0.5182\n",
            "Epoch 35/500\n",
            "469/469 [==============================] - 2s 5ms/step - loss: 0.0784 - accuracy: 0.5207 - val_loss: 0.0782 - val_accuracy: 0.5207\n",
            "Epoch 36/500\n",
            "469/469 [==============================] - 2s 4ms/step - loss: 0.0780 - accuracy: 0.5236 - val_loss: 0.0777 - val_accuracy: 0.5225\n",
            "Epoch 37/500\n",
            "469/469 [==============================] - 2s 4ms/step - loss: 0.0775 - accuracy: 0.5260 - val_loss: 0.0772 - val_accuracy: 0.5239\n",
            "Epoch 38/500\n",
            "469/469 [==============================] - 2s 3ms/step - loss: 0.0770 - accuracy: 0.5282 - val_loss: 0.0767 - val_accuracy: 0.5252\n",
            "Epoch 39/500\n",
            "469/469 [==============================] - 2s 3ms/step - loss: 0.0765 - accuracy: 0.5306 - val_loss: 0.0762 - val_accuracy: 0.5285\n",
            "Epoch 40/500\n",
            "469/469 [==============================] - 2s 4ms/step - loss: 0.0760 - accuracy: 0.5321 - val_loss: 0.0757 - val_accuracy: 0.5311\n",
            "Epoch 41/500\n",
            "469/469 [==============================] - 2s 4ms/step - loss: 0.0755 - accuracy: 0.5349 - val_loss: 0.0751 - val_accuracy: 0.5342\n",
            "Epoch 42/500\n",
            "469/469 [==============================] - 2s 4ms/step - loss: 0.0750 - accuracy: 0.5374 - val_loss: 0.0746 - val_accuracy: 0.5359\n",
            "Epoch 43/500\n",
            "469/469 [==============================] - 2s 4ms/step - loss: 0.0745 - accuracy: 0.5395 - val_loss: 0.0741 - val_accuracy: 0.5386\n",
            "Epoch 44/500\n",
            "469/469 [==============================] - 2s 4ms/step - loss: 0.0739 - accuracy: 0.5423 - val_loss: 0.0736 - val_accuracy: 0.5414\n",
            "Epoch 45/500\n",
            "469/469 [==============================] - 2s 3ms/step - loss: 0.0734 - accuracy: 0.5444 - val_loss: 0.0730 - val_accuracy: 0.5449\n",
            "Epoch 46/500\n",
            "469/469 [==============================] - 2s 3ms/step - loss: 0.0729 - accuracy: 0.5473 - val_loss: 0.0725 - val_accuracy: 0.5480\n",
            "Epoch 47/500\n",
            "469/469 [==============================] - 2s 4ms/step - loss: 0.0724 - accuracy: 0.5501 - val_loss: 0.0720 - val_accuracy: 0.5508\n",
            "Epoch 48/500\n",
            "469/469 [==============================] - 2s 3ms/step - loss: 0.0718 - accuracy: 0.5529 - val_loss: 0.0714 - val_accuracy: 0.5539\n",
            "Epoch 49/500\n",
            "469/469 [==============================] - 2s 4ms/step - loss: 0.0713 - accuracy: 0.5557 - val_loss: 0.0709 - val_accuracy: 0.5569\n",
            "Epoch 50/500\n",
            "469/469 [==============================] - 2s 3ms/step - loss: 0.0708 - accuracy: 0.5591 - val_loss: 0.0703 - val_accuracy: 0.5604\n",
            "Epoch 51/500\n",
            "469/469 [==============================] - 2s 3ms/step - loss: 0.0702 - accuracy: 0.5616 - val_loss: 0.0698 - val_accuracy: 0.5640\n",
            "Epoch 52/500\n",
            "469/469 [==============================] - 2s 3ms/step - loss: 0.0697 - accuracy: 0.5652 - val_loss: 0.0693 - val_accuracy: 0.5682\n",
            "Epoch 53/500\n",
            "469/469 [==============================] - 2s 3ms/step - loss: 0.0692 - accuracy: 0.5689 - val_loss: 0.0687 - val_accuracy: 0.5718\n",
            "Epoch 54/500\n",
            "469/469 [==============================] - 2s 4ms/step - loss: 0.0687 - accuracy: 0.5726 - val_loss: 0.0682 - val_accuracy: 0.5754\n",
            "Epoch 55/500\n",
            "469/469 [==============================] - 2s 3ms/step - loss: 0.0681 - accuracy: 0.5759 - val_loss: 0.0677 - val_accuracy: 0.5796\n",
            "Epoch 56/500\n",
            "469/469 [==============================] - 2s 3ms/step - loss: 0.0676 - accuracy: 0.5802 - val_loss: 0.0671 - val_accuracy: 0.5848\n",
            "Epoch 57/500\n",
            "469/469 [==============================] - 2s 3ms/step - loss: 0.0671 - accuracy: 0.5838 - val_loss: 0.0666 - val_accuracy: 0.5890\n",
            "Epoch 58/500\n",
            "469/469 [==============================] - 2s 4ms/step - loss: 0.0666 - accuracy: 0.5880 - val_loss: 0.0661 - val_accuracy: 0.5931\n",
            "Epoch 59/500\n",
            "469/469 [==============================] - 2s 4ms/step - loss: 0.0660 - accuracy: 0.5922 - val_loss: 0.0655 - val_accuracy: 0.5966\n",
            "Epoch 60/500\n",
            "469/469 [==============================] - 2s 4ms/step - loss: 0.0655 - accuracy: 0.5964 - val_loss: 0.0650 - val_accuracy: 0.6017\n",
            "Epoch 61/500\n",
            "469/469 [==============================] - 2s 3ms/step - loss: 0.0650 - accuracy: 0.6007 - val_loss: 0.0645 - val_accuracy: 0.6069\n",
            "Epoch 62/500\n",
            "469/469 [==============================] - 2s 3ms/step - loss: 0.0645 - accuracy: 0.6047 - val_loss: 0.0640 - val_accuracy: 0.6107\n",
            "Epoch 63/500\n",
            "469/469 [==============================] - 2s 4ms/step - loss: 0.0640 - accuracy: 0.6089 - val_loss: 0.0635 - val_accuracy: 0.6142\n",
            "Epoch 64/500\n",
            "469/469 [==============================] - 2s 4ms/step - loss: 0.0635 - accuracy: 0.6132 - val_loss: 0.0630 - val_accuracy: 0.6183\n",
            "Epoch 65/500\n",
            "469/469 [==============================] - 2s 4ms/step - loss: 0.0630 - accuracy: 0.6172 - val_loss: 0.0625 - val_accuracy: 0.6218\n",
            "Epoch 66/500\n",
            "469/469 [==============================] - 2s 4ms/step - loss: 0.0625 - accuracy: 0.6204 - val_loss: 0.0620 - val_accuracy: 0.6268\n",
            "Epoch 67/500\n",
            "469/469 [==============================] - 2s 4ms/step - loss: 0.0620 - accuracy: 0.6240 - val_loss: 0.0615 - val_accuracy: 0.6307\n",
            "Epoch 68/500\n",
            "469/469 [==============================] - 2s 3ms/step - loss: 0.0615 - accuracy: 0.6279 - val_loss: 0.0610 - val_accuracy: 0.6334\n",
            "Epoch 69/500\n",
            "469/469 [==============================] - 2s 3ms/step - loss: 0.0611 - accuracy: 0.6315 - val_loss: 0.0605 - val_accuracy: 0.6376\n",
            "Epoch 70/500\n",
            "469/469 [==============================] - 2s 4ms/step - loss: 0.0606 - accuracy: 0.6348 - val_loss: 0.0600 - val_accuracy: 0.6414\n",
            "Epoch 71/500\n",
            "469/469 [==============================] - 2s 4ms/step - loss: 0.0601 - accuracy: 0.6384 - val_loss: 0.0595 - val_accuracy: 0.6443\n",
            "Epoch 72/500\n",
            "469/469 [==============================] - 2s 3ms/step - loss: 0.0596 - accuracy: 0.6414 - val_loss: 0.0591 - val_accuracy: 0.6483\n",
            "Epoch 73/500\n",
            "469/469 [==============================] - 2s 3ms/step - loss: 0.0592 - accuracy: 0.6452 - val_loss: 0.0586 - val_accuracy: 0.6512\n",
            "Epoch 74/500\n",
            "469/469 [==============================] - 2s 3ms/step - loss: 0.0587 - accuracy: 0.6483 - val_loss: 0.0581 - val_accuracy: 0.6540\n",
            "Epoch 75/500\n",
            "469/469 [==============================] - 2s 4ms/step - loss: 0.0583 - accuracy: 0.6504 - val_loss: 0.0577 - val_accuracy: 0.6564\n",
            "Epoch 76/500\n",
            "469/469 [==============================] - 2s 3ms/step - loss: 0.0578 - accuracy: 0.6539 - val_loss: 0.0572 - val_accuracy: 0.6590\n",
            "Epoch 77/500\n",
            "469/469 [==============================] - 2s 3ms/step - loss: 0.0574 - accuracy: 0.6566 - val_loss: 0.0568 - val_accuracy: 0.6619\n",
            "Epoch 78/500\n",
            "469/469 [==============================] - 2s 4ms/step - loss: 0.0570 - accuracy: 0.6594 - val_loss: 0.0564 - val_accuracy: 0.6654\n",
            "Epoch 79/500\n",
            "469/469 [==============================] - 2s 4ms/step - loss: 0.0565 - accuracy: 0.6622 - val_loss: 0.0559 - val_accuracy: 0.6682\n",
            "Epoch 80/500\n",
            "469/469 [==============================] - 2s 4ms/step - loss: 0.0561 - accuracy: 0.6648 - val_loss: 0.0555 - val_accuracy: 0.6720\n",
            "Epoch 81/500\n",
            "469/469 [==============================] - 2s 4ms/step - loss: 0.0557 - accuracy: 0.6681 - val_loss: 0.0551 - val_accuracy: 0.6748\n",
            "Epoch 82/500\n",
            "469/469 [==============================] - 2s 4ms/step - loss: 0.0552 - accuracy: 0.6701 - val_loss: 0.0546 - val_accuracy: 0.6781\n",
            "Epoch 83/500\n",
            "469/469 [==============================] - 2s 3ms/step - loss: 0.0548 - accuracy: 0.6736 - val_loss: 0.0542 - val_accuracy: 0.6800\n",
            "Epoch 84/500\n",
            "469/469 [==============================] - 2s 3ms/step - loss: 0.0544 - accuracy: 0.6760 - val_loss: 0.0538 - val_accuracy: 0.6832\n",
            "Epoch 85/500\n",
            "469/469 [==============================] - 2s 3ms/step - loss: 0.0540 - accuracy: 0.6787 - val_loss: 0.0534 - val_accuracy: 0.6866\n",
            "Epoch 86/500\n",
            "469/469 [==============================] - 2s 4ms/step - loss: 0.0536 - accuracy: 0.6813 - val_loss: 0.0530 - val_accuracy: 0.6894\n",
            "Epoch 87/500\n",
            "469/469 [==============================] - 2s 4ms/step - loss: 0.0532 - accuracy: 0.6842 - val_loss: 0.0526 - val_accuracy: 0.6925\n",
            "Epoch 88/500\n",
            "469/469 [==============================] - 2s 3ms/step - loss: 0.0528 - accuracy: 0.6868 - val_loss: 0.0522 - val_accuracy: 0.6950\n",
            "Epoch 89/500\n",
            "469/469 [==============================] - 2s 4ms/step - loss: 0.0524 - accuracy: 0.6894 - val_loss: 0.0518 - val_accuracy: 0.6978\n",
            "Epoch 90/500\n",
            "469/469 [==============================] - 2s 4ms/step - loss: 0.0521 - accuracy: 0.6914 - val_loss: 0.0514 - val_accuracy: 0.7008\n",
            "Epoch 91/500\n",
            "469/469 [==============================] - 2s 3ms/step - loss: 0.0517 - accuracy: 0.6946 - val_loss: 0.0510 - val_accuracy: 0.7031\n",
            "Epoch 92/500\n",
            "469/469 [==============================] - 2s 4ms/step - loss: 0.0513 - accuracy: 0.6968 - val_loss: 0.0506 - val_accuracy: 0.7055\n",
            "Epoch 93/500\n",
            "469/469 [==============================] - 2s 4ms/step - loss: 0.0509 - accuracy: 0.6997 - val_loss: 0.0503 - val_accuracy: 0.7083\n",
            "Epoch 94/500\n",
            "469/469 [==============================] - 2s 4ms/step - loss: 0.0506 - accuracy: 0.7026 - val_loss: 0.0499 - val_accuracy: 0.7110\n",
            "Epoch 95/500\n",
            "469/469 [==============================] - 2s 4ms/step - loss: 0.0502 - accuracy: 0.7058 - val_loss: 0.0495 - val_accuracy: 0.7131\n",
            "Epoch 96/500\n",
            "469/469 [==============================] - 2s 3ms/step - loss: 0.0498 - accuracy: 0.7087 - val_loss: 0.0492 - val_accuracy: 0.7152\n",
            "Epoch 97/500\n",
            "469/469 [==============================] - 2s 3ms/step - loss: 0.0495 - accuracy: 0.7113 - val_loss: 0.0488 - val_accuracy: 0.7193\n",
            "Epoch 98/500\n",
            "469/469 [==============================] - 2s 3ms/step - loss: 0.0491 - accuracy: 0.7137 - val_loss: 0.0485 - val_accuracy: 0.7221\n",
            "Epoch 99/500\n",
            "469/469 [==============================] - 2s 3ms/step - loss: 0.0488 - accuracy: 0.7170 - val_loss: 0.0481 - val_accuracy: 0.7245\n",
            "Epoch 100/500\n",
            "469/469 [==============================] - 2s 4ms/step - loss: 0.0484 - accuracy: 0.7193 - val_loss: 0.0478 - val_accuracy: 0.7272\n",
            "Epoch 101/500\n",
            "469/469 [==============================] - 2s 4ms/step - loss: 0.0481 - accuracy: 0.7222 - val_loss: 0.0474 - val_accuracy: 0.7301\n",
            "Epoch 102/500\n",
            "469/469 [==============================] - 2s 3ms/step - loss: 0.0478 - accuracy: 0.7248 - val_loss: 0.0471 - val_accuracy: 0.7325\n",
            "Epoch 103/500\n",
            "469/469 [==============================] - 2s 4ms/step - loss: 0.0474 - accuracy: 0.7279 - val_loss: 0.0468 - val_accuracy: 0.7350\n",
            "Epoch 104/500\n",
            "469/469 [==============================] - 2s 4ms/step - loss: 0.0471 - accuracy: 0.7306 - val_loss: 0.0464 - val_accuracy: 0.7372\n",
            "Epoch 105/500\n",
            "469/469 [==============================] - 2s 5ms/step - loss: 0.0468 - accuracy: 0.7333 - val_loss: 0.0461 - val_accuracy: 0.7405\n",
            "Epoch 106/500\n",
            "469/469 [==============================] - 2s 4ms/step - loss: 0.0465 - accuracy: 0.7364 - val_loss: 0.0458 - val_accuracy: 0.7433\n",
            "Epoch 107/500\n",
            "469/469 [==============================] - 2s 3ms/step - loss: 0.0461 - accuracy: 0.7385 - val_loss: 0.0455 - val_accuracy: 0.7466\n",
            "Epoch 108/500\n",
            "469/469 [==============================] - 2s 4ms/step - loss: 0.0458 - accuracy: 0.7416 - val_loss: 0.0451 - val_accuracy: 0.7490\n",
            "Epoch 109/500\n",
            "469/469 [==============================] - 2s 4ms/step - loss: 0.0455 - accuracy: 0.7445 - val_loss: 0.0448 - val_accuracy: 0.7523\n",
            "Epoch 110/500\n",
            "469/469 [==============================] - 2s 4ms/step - loss: 0.0452 - accuracy: 0.7471 - val_loss: 0.0445 - val_accuracy: 0.7562\n",
            "Epoch 111/500\n",
            "469/469 [==============================] - 2s 4ms/step - loss: 0.0449 - accuracy: 0.7497 - val_loss: 0.0442 - val_accuracy: 0.7583\n",
            "Epoch 112/500\n",
            "469/469 [==============================] - 2s 4ms/step - loss: 0.0446 - accuracy: 0.7525 - val_loss: 0.0439 - val_accuracy: 0.7607\n",
            "Epoch 113/500\n",
            "469/469 [==============================] - 2s 4ms/step - loss: 0.0443 - accuracy: 0.7553 - val_loss: 0.0436 - val_accuracy: 0.7634\n",
            "Epoch 114/500\n",
            "469/469 [==============================] - 2s 3ms/step - loss: 0.0440 - accuracy: 0.7587 - val_loss: 0.0433 - val_accuracy: 0.7646\n",
            "Epoch 115/500\n",
            "469/469 [==============================] - 2s 4ms/step - loss: 0.0437 - accuracy: 0.7609 - val_loss: 0.0430 - val_accuracy: 0.7670\n",
            "Epoch 116/500\n",
            "469/469 [==============================] - 2s 4ms/step - loss: 0.0434 - accuracy: 0.7641 - val_loss: 0.0427 - val_accuracy: 0.7698\n",
            "Epoch 117/500\n",
            "469/469 [==============================] - 2s 4ms/step - loss: 0.0432 - accuracy: 0.7661 - val_loss: 0.0425 - val_accuracy: 0.7727\n",
            "Epoch 118/500\n",
            "469/469 [==============================] - 2s 3ms/step - loss: 0.0429 - accuracy: 0.7699 - val_loss: 0.0422 - val_accuracy: 0.7756\n",
            "Epoch 119/500\n",
            "469/469 [==============================] - 2s 3ms/step - loss: 0.0426 - accuracy: 0.7720 - val_loss: 0.0419 - val_accuracy: 0.7792\n",
            "Epoch 120/500\n",
            "469/469 [==============================] - 2s 4ms/step - loss: 0.0423 - accuracy: 0.7745 - val_loss: 0.0416 - val_accuracy: 0.7822\n",
            "Epoch 121/500\n",
            "469/469 [==============================] - 2s 4ms/step - loss: 0.0421 - accuracy: 0.7772 - val_loss: 0.0413 - val_accuracy: 0.7854\n",
            "Epoch 122/500\n",
            "469/469 [==============================] - 2s 3ms/step - loss: 0.0418 - accuracy: 0.7804 - val_loss: 0.0411 - val_accuracy: 0.7879\n",
            "Epoch 123/500\n",
            "469/469 [==============================] - 2s 3ms/step - loss: 0.0415 - accuracy: 0.7822 - val_loss: 0.0408 - val_accuracy: 0.7899\n",
            "Epoch 124/500\n",
            "469/469 [==============================] - 2s 4ms/step - loss: 0.0413 - accuracy: 0.7847 - val_loss: 0.0405 - val_accuracy: 0.7928\n",
            "Epoch 125/500\n",
            "469/469 [==============================] - 2s 4ms/step - loss: 0.0410 - accuracy: 0.7867 - val_loss: 0.0403 - val_accuracy: 0.7950\n",
            "Epoch 126/500\n",
            "469/469 [==============================] - 2s 3ms/step - loss: 0.0407 - accuracy: 0.7891 - val_loss: 0.0400 - val_accuracy: 0.7979\n",
            "Epoch 127/500\n",
            "469/469 [==============================] - 2s 3ms/step - loss: 0.0405 - accuracy: 0.7915 - val_loss: 0.0398 - val_accuracy: 0.8001\n",
            "Epoch 128/500\n",
            "469/469 [==============================] - 2s 4ms/step - loss: 0.0402 - accuracy: 0.7939 - val_loss: 0.0395 - val_accuracy: 0.8026\n",
            "Epoch 129/500\n",
            "469/469 [==============================] - 2s 4ms/step - loss: 0.0400 - accuracy: 0.7957 - val_loss: 0.0393 - val_accuracy: 0.8045\n",
            "Epoch 130/500\n",
            "469/469 [==============================] - 2s 4ms/step - loss: 0.0398 - accuracy: 0.7980 - val_loss: 0.0390 - val_accuracy: 0.8059\n",
            "Epoch 131/500\n",
            "469/469 [==============================] - 2s 4ms/step - loss: 0.0395 - accuracy: 0.7997 - val_loss: 0.0388 - val_accuracy: 0.8075\n",
            "Epoch 132/500\n",
            "469/469 [==============================] - 2s 4ms/step - loss: 0.0393 - accuracy: 0.8015 - val_loss: 0.0385 - val_accuracy: 0.8090\n",
            "Epoch 133/500\n",
            "469/469 [==============================] - 2s 4ms/step - loss: 0.0390 - accuracy: 0.8038 - val_loss: 0.0383 - val_accuracy: 0.8104\n",
            "Epoch 134/500\n",
            "469/469 [==============================] - 2s 4ms/step - loss: 0.0388 - accuracy: 0.8055 - val_loss: 0.0381 - val_accuracy: 0.8126\n",
            "Epoch 135/500\n",
            "469/469 [==============================] - 2s 4ms/step - loss: 0.0386 - accuracy: 0.8073 - val_loss: 0.0378 - val_accuracy: 0.8141\n",
            "Epoch 136/500\n",
            "469/469 [==============================] - 2s 4ms/step - loss: 0.0383 - accuracy: 0.8091 - val_loss: 0.0376 - val_accuracy: 0.8157\n",
            "Epoch 137/500\n",
            "469/469 [==============================] - 2s 3ms/step - loss: 0.0381 - accuracy: 0.8108 - val_loss: 0.0374 - val_accuracy: 0.8178\n",
            "Epoch 138/500\n",
            "469/469 [==============================] - 2s 4ms/step - loss: 0.0379 - accuracy: 0.8125 - val_loss: 0.0371 - val_accuracy: 0.8192\n",
            "Epoch 139/500\n",
            "469/469 [==============================] - 2s 4ms/step - loss: 0.0377 - accuracy: 0.8141 - val_loss: 0.0369 - val_accuracy: 0.8200\n",
            "Epoch 140/500\n",
            "469/469 [==============================] - 2s 4ms/step - loss: 0.0375 - accuracy: 0.8159 - val_loss: 0.0367 - val_accuracy: 0.8214\n",
            "Epoch 141/500\n",
            "469/469 [==============================] - 2s 4ms/step - loss: 0.0372 - accuracy: 0.8172 - val_loss: 0.0365 - val_accuracy: 0.8223\n",
            "Epoch 142/500\n",
            "469/469 [==============================] - 2s 4ms/step - loss: 0.0370 - accuracy: 0.8187 - val_loss: 0.0363 - val_accuracy: 0.8237\n",
            "Epoch 143/500\n",
            "469/469 [==============================] - 2s 3ms/step - loss: 0.0368 - accuracy: 0.8202 - val_loss: 0.0360 - val_accuracy: 0.8258\n",
            "Epoch 144/500\n",
            "469/469 [==============================] - 2s 4ms/step - loss: 0.0366 - accuracy: 0.8214 - val_loss: 0.0358 - val_accuracy: 0.8274\n",
            "Epoch 145/500\n",
            "469/469 [==============================] - 2s 4ms/step - loss: 0.0364 - accuracy: 0.8230 - val_loss: 0.0356 - val_accuracy: 0.8289\n",
            "Epoch 146/500\n",
            "469/469 [==============================] - 2s 4ms/step - loss: 0.0362 - accuracy: 0.8239 - val_loss: 0.0354 - val_accuracy: 0.8306\n",
            "Epoch 147/500\n",
            "469/469 [==============================] - 2s 4ms/step - loss: 0.0360 - accuracy: 0.8252 - val_loss: 0.0352 - val_accuracy: 0.8320\n",
            "Epoch 148/500\n",
            "469/469 [==============================] - 2s 4ms/step - loss: 0.0358 - accuracy: 0.8261 - val_loss: 0.0350 - val_accuracy: 0.8333\n",
            "Epoch 149/500\n",
            "469/469 [==============================] - 2s 4ms/step - loss: 0.0356 - accuracy: 0.8277 - val_loss: 0.0348 - val_accuracy: 0.8351\n",
            "Epoch 150/500\n",
            "469/469 [==============================] - 2s 4ms/step - loss: 0.0354 - accuracy: 0.8286 - val_loss: 0.0346 - val_accuracy: 0.8358\n",
            "Epoch 151/500\n",
            "469/469 [==============================] - 2s 4ms/step - loss: 0.0352 - accuracy: 0.8298 - val_loss: 0.0344 - val_accuracy: 0.8377\n",
            "Epoch 152/500\n",
            "469/469 [==============================] - 2s 4ms/step - loss: 0.0350 - accuracy: 0.8309 - val_loss: 0.0342 - val_accuracy: 0.8393\n",
            "Epoch 153/500\n",
            "469/469 [==============================] - 2s 4ms/step - loss: 0.0348 - accuracy: 0.8316 - val_loss: 0.0340 - val_accuracy: 0.8408\n",
            "Epoch 154/500\n",
            "469/469 [==============================] - 2s 3ms/step - loss: 0.0346 - accuracy: 0.8325 - val_loss: 0.0338 - val_accuracy: 0.8416\n",
            "Epoch 155/500\n",
            "469/469 [==============================] - 2s 3ms/step - loss: 0.0345 - accuracy: 0.8332 - val_loss: 0.0337 - val_accuracy: 0.8426\n",
            "Epoch 156/500\n",
            "469/469 [==============================] - 2s 3ms/step - loss: 0.0343 - accuracy: 0.8342 - val_loss: 0.0335 - val_accuracy: 0.8438\n",
            "Epoch 157/500\n",
            "469/469 [==============================] - 2s 4ms/step - loss: 0.0341 - accuracy: 0.8354 - val_loss: 0.0333 - val_accuracy: 0.8446\n",
            "Epoch 158/500\n",
            "469/469 [==============================] - 2s 4ms/step - loss: 0.0339 - accuracy: 0.8360 - val_loss: 0.0331 - val_accuracy: 0.8459\n",
            "Epoch 159/500\n",
            "469/469 [==============================] - 2s 4ms/step - loss: 0.0337 - accuracy: 0.8369 - val_loss: 0.0329 - val_accuracy: 0.8475\n",
            "Epoch 160/500\n",
            "469/469 [==============================] - 2s 4ms/step - loss: 0.0336 - accuracy: 0.8378 - val_loss: 0.0328 - val_accuracy: 0.8483\n",
            "Epoch 161/500\n",
            "469/469 [==============================] - 2s 3ms/step - loss: 0.0334 - accuracy: 0.8387 - val_loss: 0.0326 - val_accuracy: 0.8489\n",
            "Epoch 162/500\n",
            "469/469 [==============================] - 2s 4ms/step - loss: 0.0332 - accuracy: 0.8396 - val_loss: 0.0324 - val_accuracy: 0.8493\n",
            "Epoch 163/500\n",
            "469/469 [==============================] - 2s 4ms/step - loss: 0.0331 - accuracy: 0.8404 - val_loss: 0.0322 - val_accuracy: 0.8502\n",
            "Epoch 164/500\n",
            "469/469 [==============================] - 2s 4ms/step - loss: 0.0329 - accuracy: 0.8411 - val_loss: 0.0321 - val_accuracy: 0.8507\n",
            "Epoch 165/500\n",
            "469/469 [==============================] - 2s 5ms/step - loss: 0.0327 - accuracy: 0.8419 - val_loss: 0.0319 - val_accuracy: 0.8509\n",
            "Epoch 166/500\n",
            "469/469 [==============================] - 2s 4ms/step - loss: 0.0326 - accuracy: 0.8427 - val_loss: 0.0318 - val_accuracy: 0.8513\n",
            "Epoch 167/500\n",
            "469/469 [==============================] - 2s 4ms/step - loss: 0.0324 - accuracy: 0.8432 - val_loss: 0.0316 - val_accuracy: 0.8521\n",
            "Epoch 168/500\n",
            "469/469 [==============================] - 2s 4ms/step - loss: 0.0323 - accuracy: 0.8439 - val_loss: 0.0314 - val_accuracy: 0.8524\n",
            "Epoch 169/500\n",
            "469/469 [==============================] - 2s 4ms/step - loss: 0.0321 - accuracy: 0.8445 - val_loss: 0.0313 - val_accuracy: 0.8530\n",
            "Epoch 170/500\n",
            "469/469 [==============================] - 2s 4ms/step - loss: 0.0320 - accuracy: 0.8451 - val_loss: 0.0311 - val_accuracy: 0.8527\n",
            "Epoch 171/500\n",
            "469/469 [==============================] - 2s 4ms/step - loss: 0.0318 - accuracy: 0.8459 - val_loss: 0.0310 - val_accuracy: 0.8534\n",
            "Epoch 172/500\n",
            "469/469 [==============================] - 2s 4ms/step - loss: 0.0316 - accuracy: 0.8465 - val_loss: 0.0308 - val_accuracy: 0.8539\n",
            "Epoch 173/500\n",
            "469/469 [==============================] - 2s 4ms/step - loss: 0.0315 - accuracy: 0.8469 - val_loss: 0.0307 - val_accuracy: 0.8543\n",
            "Epoch 174/500\n",
            "469/469 [==============================] - 2s 4ms/step - loss: 0.0314 - accuracy: 0.8475 - val_loss: 0.0305 - val_accuracy: 0.8547\n",
            "Epoch 175/500\n",
            "469/469 [==============================] - 2s 3ms/step - loss: 0.0312 - accuracy: 0.8482 - val_loss: 0.0304 - val_accuracy: 0.8554\n",
            "Epoch 176/500\n",
            "469/469 [==============================] - 2s 3ms/step - loss: 0.0311 - accuracy: 0.8488 - val_loss: 0.0302 - val_accuracy: 0.8561\n",
            "Epoch 177/500\n",
            "469/469 [==============================] - 2s 4ms/step - loss: 0.0309 - accuracy: 0.8493 - val_loss: 0.0301 - val_accuracy: 0.8567\n",
            "Epoch 178/500\n",
            "469/469 [==============================] - 2s 3ms/step - loss: 0.0308 - accuracy: 0.8498 - val_loss: 0.0299 - val_accuracy: 0.8575\n",
            "Epoch 179/500\n",
            "469/469 [==============================] - 2s 4ms/step - loss: 0.0307 - accuracy: 0.8504 - val_loss: 0.0298 - val_accuracy: 0.8575\n",
            "Epoch 180/500\n",
            "469/469 [==============================] - 2s 4ms/step - loss: 0.0305 - accuracy: 0.8509 - val_loss: 0.0297 - val_accuracy: 0.8577\n",
            "Epoch 181/500\n",
            "469/469 [==============================] - 2s 3ms/step - loss: 0.0304 - accuracy: 0.8514 - val_loss: 0.0295 - val_accuracy: 0.8584\n",
            "Epoch 182/500\n",
            "469/469 [==============================] - 2s 4ms/step - loss: 0.0302 - accuracy: 0.8518 - val_loss: 0.0294 - val_accuracy: 0.8591\n",
            "Epoch 183/500\n",
            "469/469 [==============================] - 2s 4ms/step - loss: 0.0301 - accuracy: 0.8524 - val_loss: 0.0293 - val_accuracy: 0.8593\n",
            "Epoch 184/500\n",
            "469/469 [==============================] - 2s 4ms/step - loss: 0.0300 - accuracy: 0.8529 - val_loss: 0.0291 - val_accuracy: 0.8595\n",
            "Epoch 185/500\n",
            "469/469 [==============================] - 2s 4ms/step - loss: 0.0299 - accuracy: 0.8533 - val_loss: 0.0290 - val_accuracy: 0.8596\n",
            "Epoch 186/500\n",
            "469/469 [==============================] - 2s 4ms/step - loss: 0.0297 - accuracy: 0.8537 - val_loss: 0.0289 - val_accuracy: 0.8596\n",
            "Epoch 187/500\n",
            "469/469 [==============================] - 2s 4ms/step - loss: 0.0296 - accuracy: 0.8541 - val_loss: 0.0288 - val_accuracy: 0.8599\n",
            "Epoch 188/500\n",
            "469/469 [==============================] - 2s 4ms/step - loss: 0.0295 - accuracy: 0.8546 - val_loss: 0.0286 - val_accuracy: 0.8604\n",
            "Epoch 189/500\n",
            "469/469 [==============================] - 2s 5ms/step - loss: 0.0294 - accuracy: 0.8550 - val_loss: 0.0285 - val_accuracy: 0.8608\n",
            "Epoch 190/500\n",
            "469/469 [==============================] - 2s 3ms/step - loss: 0.0292 - accuracy: 0.8553 - val_loss: 0.0284 - val_accuracy: 0.8609\n",
            "Epoch 191/500\n",
            "469/469 [==============================] - 2s 3ms/step - loss: 0.0291 - accuracy: 0.8556 - val_loss: 0.0283 - val_accuracy: 0.8615\n",
            "Epoch 192/500\n",
            "469/469 [==============================] - 2s 4ms/step - loss: 0.0290 - accuracy: 0.8561 - val_loss: 0.0281 - val_accuracy: 0.8615\n",
            "Epoch 193/500\n",
            "469/469 [==============================] - 2s 4ms/step - loss: 0.0289 - accuracy: 0.8564 - val_loss: 0.0280 - val_accuracy: 0.8614\n",
            "Epoch 194/500\n",
            "469/469 [==============================] - 2s 4ms/step - loss: 0.0288 - accuracy: 0.8567 - val_loss: 0.0279 - val_accuracy: 0.8617\n",
            "Epoch 195/500\n",
            "469/469 [==============================] - 2s 4ms/step - loss: 0.0287 - accuracy: 0.8572 - val_loss: 0.0278 - val_accuracy: 0.8620\n",
            "Epoch 196/500\n",
            "469/469 [==============================] - 2s 4ms/step - loss: 0.0286 - accuracy: 0.8576 - val_loss: 0.0277 - val_accuracy: 0.8625\n",
            "Epoch 197/500\n",
            "469/469 [==============================] - 2s 4ms/step - loss: 0.0284 - accuracy: 0.8580 - val_loss: 0.0276 - val_accuracy: 0.8628\n",
            "Epoch 198/500\n",
            "469/469 [==============================] - 2s 4ms/step - loss: 0.0283 - accuracy: 0.8583 - val_loss: 0.0275 - val_accuracy: 0.8632\n",
            "Epoch 199/500\n",
            "469/469 [==============================] - 2s 4ms/step - loss: 0.0282 - accuracy: 0.8589 - val_loss: 0.0274 - val_accuracy: 0.8640\n",
            "Epoch 200/500\n",
            "469/469 [==============================] - 2s 4ms/step - loss: 0.0281 - accuracy: 0.8593 - val_loss: 0.0272 - val_accuracy: 0.8640\n",
            "Epoch 201/500\n",
            "469/469 [==============================] - 2s 4ms/step - loss: 0.0280 - accuracy: 0.8597 - val_loss: 0.0271 - val_accuracy: 0.8645\n",
            "Epoch 202/500\n",
            "469/469 [==============================] - 2s 4ms/step - loss: 0.0279 - accuracy: 0.8599 - val_loss: 0.0270 - val_accuracy: 0.8649\n",
            "Epoch 203/500\n",
            "469/469 [==============================] - 2s 4ms/step - loss: 0.0278 - accuracy: 0.8604 - val_loss: 0.0269 - val_accuracy: 0.8651\n",
            "Epoch 204/500\n",
            "469/469 [==============================] - 2s 4ms/step - loss: 0.0277 - accuracy: 0.8607 - val_loss: 0.0268 - val_accuracy: 0.8657\n",
            "Epoch 205/500\n",
            "469/469 [==============================] - 2s 4ms/step - loss: 0.0276 - accuracy: 0.8609 - val_loss: 0.0267 - val_accuracy: 0.8661\n",
            "Epoch 206/500\n",
            "469/469 [==============================] - 2s 4ms/step - loss: 0.0275 - accuracy: 0.8613 - val_loss: 0.0266 - val_accuracy: 0.8664\n",
            "Epoch 207/500\n",
            "469/469 [==============================] - 2s 4ms/step - loss: 0.0274 - accuracy: 0.8615 - val_loss: 0.0265 - val_accuracy: 0.8667\n",
            "Epoch 208/500\n",
            "469/469 [==============================] - 2s 4ms/step - loss: 0.0273 - accuracy: 0.8618 - val_loss: 0.0264 - val_accuracy: 0.8672\n",
            "Epoch 209/500\n",
            "469/469 [==============================] - 2s 4ms/step - loss: 0.0272 - accuracy: 0.8622 - val_loss: 0.0263 - val_accuracy: 0.8674\n",
            "Epoch 210/500\n",
            "469/469 [==============================] - 2s 4ms/step - loss: 0.0271 - accuracy: 0.8625 - val_loss: 0.0262 - val_accuracy: 0.8679\n",
            "Epoch 211/500\n",
            "469/469 [==============================] - 2s 4ms/step - loss: 0.0270 - accuracy: 0.8626 - val_loss: 0.0261 - val_accuracy: 0.8683\n",
            "Epoch 212/500\n",
            "469/469 [==============================] - 2s 4ms/step - loss: 0.0269 - accuracy: 0.8629 - val_loss: 0.0260 - val_accuracy: 0.8687\n",
            "Epoch 213/500\n",
            "469/469 [==============================] - 2s 4ms/step - loss: 0.0268 - accuracy: 0.8630 - val_loss: 0.0260 - val_accuracy: 0.8692\n",
            "Epoch 214/500\n",
            "469/469 [==============================] - 2s 4ms/step - loss: 0.0267 - accuracy: 0.8633 - val_loss: 0.0259 - val_accuracy: 0.8700\n",
            "Epoch 215/500\n",
            "469/469 [==============================] - 2s 4ms/step - loss: 0.0267 - accuracy: 0.8636 - val_loss: 0.0258 - val_accuracy: 0.8703\n",
            "Epoch 216/500\n",
            "469/469 [==============================] - 2s 4ms/step - loss: 0.0266 - accuracy: 0.8639 - val_loss: 0.0257 - val_accuracy: 0.8705\n",
            "Epoch 217/500\n",
            "469/469 [==============================] - 2s 4ms/step - loss: 0.0265 - accuracy: 0.8642 - val_loss: 0.0256 - val_accuracy: 0.8709\n",
            "Epoch 218/500\n",
            "469/469 [==============================] - 2s 4ms/step - loss: 0.0264 - accuracy: 0.8644 - val_loss: 0.0255 - val_accuracy: 0.8712\n",
            "Epoch 219/500\n",
            "469/469 [==============================] - 2s 4ms/step - loss: 0.0263 - accuracy: 0.8647 - val_loss: 0.0254 - val_accuracy: 0.8719\n",
            "Epoch 220/500\n",
            "469/469 [==============================] - 2s 4ms/step - loss: 0.0262 - accuracy: 0.8650 - val_loss: 0.0253 - val_accuracy: 0.8721\n",
            "Epoch 221/500\n",
            "469/469 [==============================] - 2s 4ms/step - loss: 0.0261 - accuracy: 0.8651 - val_loss: 0.0252 - val_accuracy: 0.8725\n",
            "Epoch 222/500\n",
            "469/469 [==============================] - 2s 4ms/step - loss: 0.0260 - accuracy: 0.8654 - val_loss: 0.0252 - val_accuracy: 0.8729\n",
            "Epoch 223/500\n",
            "469/469 [==============================] - 2s 4ms/step - loss: 0.0260 - accuracy: 0.8657 - val_loss: 0.0251 - val_accuracy: 0.8730\n",
            "Epoch 224/500\n",
            "469/469 [==============================] - 2s 4ms/step - loss: 0.0259 - accuracy: 0.8660 - val_loss: 0.0250 - val_accuracy: 0.8734\n",
            "Epoch 225/500\n",
            "469/469 [==============================] - 2s 4ms/step - loss: 0.0258 - accuracy: 0.8662 - val_loss: 0.0249 - val_accuracy: 0.8736\n",
            "Epoch 226/500\n",
            "469/469 [==============================] - 2s 4ms/step - loss: 0.0257 - accuracy: 0.8664 - val_loss: 0.0248 - val_accuracy: 0.8742\n",
            "Epoch 227/500\n",
            "469/469 [==============================] - 2s 4ms/step - loss: 0.0256 - accuracy: 0.8666 - val_loss: 0.0248 - val_accuracy: 0.8747\n",
            "Epoch 228/500\n",
            "469/469 [==============================] - 2s 4ms/step - loss: 0.0256 - accuracy: 0.8668 - val_loss: 0.0247 - val_accuracy: 0.8748\n",
            "Epoch 229/500\n",
            "469/469 [==============================] - 2s 4ms/step - loss: 0.0255 - accuracy: 0.8670 - val_loss: 0.0246 - val_accuracy: 0.8752\n",
            "Epoch 230/500\n",
            "469/469 [==============================] - 2s 4ms/step - loss: 0.0254 - accuracy: 0.8672 - val_loss: 0.0245 - val_accuracy: 0.8755\n",
            "Epoch 231/500\n",
            "469/469 [==============================] - 2s 4ms/step - loss: 0.0253 - accuracy: 0.8676 - val_loss: 0.0244 - val_accuracy: 0.8759\n",
            "Epoch 232/500\n",
            "469/469 [==============================] - 2s 4ms/step - loss: 0.0253 - accuracy: 0.8677 - val_loss: 0.0244 - val_accuracy: 0.8763\n",
            "Epoch 233/500\n",
            "469/469 [==============================] - 2s 4ms/step - loss: 0.0252 - accuracy: 0.8680 - val_loss: 0.0243 - val_accuracy: 0.8766\n",
            "Epoch 234/500\n",
            "469/469 [==============================] - 2s 4ms/step - loss: 0.0251 - accuracy: 0.8682 - val_loss: 0.0242 - val_accuracy: 0.8771\n",
            "Epoch 235/500\n",
            "469/469 [==============================] - 2s 4ms/step - loss: 0.0250 - accuracy: 0.8684 - val_loss: 0.0242 - val_accuracy: 0.8776\n",
            "Epoch 236/500\n",
            "469/469 [==============================] - 2s 4ms/step - loss: 0.0250 - accuracy: 0.8687 - val_loss: 0.0241 - val_accuracy: 0.8776\n",
            "Epoch 237/500\n",
            "469/469 [==============================] - 2s 4ms/step - loss: 0.0249 - accuracy: 0.8689 - val_loss: 0.0240 - val_accuracy: 0.8780\n",
            "Epoch 238/500\n",
            "469/469 [==============================] - 2s 4ms/step - loss: 0.0248 - accuracy: 0.8692 - val_loss: 0.0239 - val_accuracy: 0.8781\n",
            "Epoch 239/500\n",
            "469/469 [==============================] - 2s 3ms/step - loss: 0.0248 - accuracy: 0.8695 - val_loss: 0.0239 - val_accuracy: 0.8782\n",
            "Epoch 240/500\n",
            "469/469 [==============================] - 2s 4ms/step - loss: 0.0247 - accuracy: 0.8696 - val_loss: 0.0238 - val_accuracy: 0.8782\n",
            "Epoch 241/500\n",
            "469/469 [==============================] - 2s 4ms/step - loss: 0.0246 - accuracy: 0.8697 - val_loss: 0.0237 - val_accuracy: 0.8784\n",
            "Epoch 242/500\n",
            "469/469 [==============================] - 2s 4ms/step - loss: 0.0246 - accuracy: 0.8697 - val_loss: 0.0237 - val_accuracy: 0.8786\n",
            "Epoch 243/500\n",
            "469/469 [==============================] - 2s 4ms/step - loss: 0.0245 - accuracy: 0.8703 - val_loss: 0.0236 - val_accuracy: 0.8789\n",
            "Epoch 244/500\n",
            "469/469 [==============================] - 2s 4ms/step - loss: 0.0244 - accuracy: 0.8705 - val_loss: 0.0235 - val_accuracy: 0.8793\n",
            "Epoch 245/500\n",
            "469/469 [==============================] - 2s 4ms/step - loss: 0.0244 - accuracy: 0.8706 - val_loss: 0.0235 - val_accuracy: 0.8794\n",
            "Epoch 246/500\n",
            "469/469 [==============================] - 2s 4ms/step - loss: 0.0243 - accuracy: 0.8708 - val_loss: 0.0234 - val_accuracy: 0.8796\n",
            "Epoch 247/500\n",
            "469/469 [==============================] - 2s 4ms/step - loss: 0.0242 - accuracy: 0.8712 - val_loss: 0.0233 - val_accuracy: 0.8799\n",
            "Epoch 248/500\n",
            "469/469 [==============================] - 2s 4ms/step - loss: 0.0242 - accuracy: 0.8712 - val_loss: 0.0233 - val_accuracy: 0.8801\n",
            "Epoch 249/500\n",
            "469/469 [==============================] - 2s 4ms/step - loss: 0.0241 - accuracy: 0.8715 - val_loss: 0.0232 - val_accuracy: 0.8802\n",
            "Epoch 250/500\n",
            "469/469 [==============================] - 2s 4ms/step - loss: 0.0240 - accuracy: 0.8717 - val_loss: 0.0231 - val_accuracy: 0.8804\n",
            "Epoch 251/500\n",
            "469/469 [==============================] - 2s 4ms/step - loss: 0.0240 - accuracy: 0.8718 - val_loss: 0.0231 - val_accuracy: 0.8807\n",
            "Epoch 252/500\n",
            "469/469 [==============================] - 2s 4ms/step - loss: 0.0239 - accuracy: 0.8721 - val_loss: 0.0230 - val_accuracy: 0.8810\n",
            "Epoch 253/500\n",
            "469/469 [==============================] - 2s 4ms/step - loss: 0.0239 - accuracy: 0.8723 - val_loss: 0.0230 - val_accuracy: 0.8812\n",
            "Epoch 254/500\n",
            "469/469 [==============================] - 2s 4ms/step - loss: 0.0238 - accuracy: 0.8723 - val_loss: 0.0229 - val_accuracy: 0.8812\n",
            "Epoch 255/500\n",
            "469/469 [==============================] - 2s 4ms/step - loss: 0.0237 - accuracy: 0.8726 - val_loss: 0.0228 - val_accuracy: 0.8810\n",
            "Epoch 256/500\n",
            "469/469 [==============================] - 2s 4ms/step - loss: 0.0237 - accuracy: 0.8727 - val_loss: 0.0228 - val_accuracy: 0.8812\n",
            "Epoch 257/500\n",
            "469/469 [==============================] - 2s 4ms/step - loss: 0.0236 - accuracy: 0.8730 - val_loss: 0.0227 - val_accuracy: 0.8814\n",
            "Epoch 258/500\n",
            "469/469 [==============================] - 2s 3ms/step - loss: 0.0236 - accuracy: 0.8734 - val_loss: 0.0227 - val_accuracy: 0.8815\n",
            "Epoch 259/500\n",
            "469/469 [==============================] - 2s 4ms/step - loss: 0.0235 - accuracy: 0.8734 - val_loss: 0.0226 - val_accuracy: 0.8817\n",
            "Epoch 260/500\n",
            "469/469 [==============================] - 2s 4ms/step - loss: 0.0234 - accuracy: 0.8738 - val_loss: 0.0225 - val_accuracy: 0.8820\n",
            "Epoch 261/500\n",
            "469/469 [==============================] - 2s 4ms/step - loss: 0.0234 - accuracy: 0.8738 - val_loss: 0.0225 - val_accuracy: 0.8825\n",
            "Epoch 262/500\n",
            "469/469 [==============================] - 2s 4ms/step - loss: 0.0233 - accuracy: 0.8740 - val_loss: 0.0224 - val_accuracy: 0.8827\n",
            "Epoch 263/500\n",
            "469/469 [==============================] - 2s 4ms/step - loss: 0.0233 - accuracy: 0.8742 - val_loss: 0.0224 - val_accuracy: 0.8832\n",
            "Epoch 264/500\n",
            "469/469 [==============================] - 2s 4ms/step - loss: 0.0232 - accuracy: 0.8744 - val_loss: 0.0223 - val_accuracy: 0.8835\n",
            "Epoch 265/500\n",
            "469/469 [==============================] - 2s 4ms/step - loss: 0.0232 - accuracy: 0.8745 - val_loss: 0.0223 - val_accuracy: 0.8841\n",
            "Epoch 266/500\n",
            "469/469 [==============================] - 2s 4ms/step - loss: 0.0231 - accuracy: 0.8748 - val_loss: 0.0222 - val_accuracy: 0.8841\n",
            "Epoch 267/500\n",
            "469/469 [==============================] - 2s 4ms/step - loss: 0.0231 - accuracy: 0.8749 - val_loss: 0.0222 - val_accuracy: 0.8844\n",
            "Epoch 268/500\n",
            "469/469 [==============================] - 2s 4ms/step - loss: 0.0230 - accuracy: 0.8752 - val_loss: 0.0221 - val_accuracy: 0.8846\n",
            "Epoch 269/500\n",
            "469/469 [==============================] - 2s 4ms/step - loss: 0.0230 - accuracy: 0.8754 - val_loss: 0.0221 - val_accuracy: 0.8850\n",
            "Epoch 270/500\n",
            "469/469 [==============================] - 2s 5ms/step - loss: 0.0229 - accuracy: 0.8755 - val_loss: 0.0220 - val_accuracy: 0.8851\n",
            "Epoch 271/500\n",
            "469/469 [==============================] - 2s 4ms/step - loss: 0.0229 - accuracy: 0.8756 - val_loss: 0.0220 - val_accuracy: 0.8851\n",
            "Epoch 272/500\n",
            "469/469 [==============================] - 2s 4ms/step - loss: 0.0228 - accuracy: 0.8758 - val_loss: 0.0219 - val_accuracy: 0.8854\n",
            "Epoch 273/500\n",
            "469/469 [==============================] - 2s 4ms/step - loss: 0.0228 - accuracy: 0.8760 - val_loss: 0.0219 - val_accuracy: 0.8858\n",
            "Epoch 274/500\n",
            "469/469 [==============================] - 2s 4ms/step - loss: 0.0227 - accuracy: 0.8762 - val_loss: 0.0218 - val_accuracy: 0.8859\n",
            "Epoch 275/500\n",
            "469/469 [==============================] - 2s 4ms/step - loss: 0.0227 - accuracy: 0.8763 - val_loss: 0.0218 - val_accuracy: 0.8860\n",
            "Epoch 276/500\n",
            "469/469 [==============================] - 2s 4ms/step - loss: 0.0226 - accuracy: 0.8766 - val_loss: 0.0217 - val_accuracy: 0.8861\n",
            "Epoch 277/500\n",
            "469/469 [==============================] - 2s 4ms/step - loss: 0.0226 - accuracy: 0.8767 - val_loss: 0.0217 - val_accuracy: 0.8862\n",
            "Epoch 278/500\n",
            "469/469 [==============================] - 2s 4ms/step - loss: 0.0225 - accuracy: 0.8768 - val_loss: 0.0216 - val_accuracy: 0.8863\n",
            "Epoch 279/500\n",
            "469/469 [==============================] - 2s 4ms/step - loss: 0.0225 - accuracy: 0.8770 - val_loss: 0.0216 - val_accuracy: 0.8866\n",
            "Epoch 280/500\n",
            "469/469 [==============================] - 2s 4ms/step - loss: 0.0224 - accuracy: 0.8772 - val_loss: 0.0215 - val_accuracy: 0.8866\n",
            "Epoch 281/500\n",
            "469/469 [==============================] - 2s 4ms/step - loss: 0.0224 - accuracy: 0.8775 - val_loss: 0.0215 - val_accuracy: 0.8869\n",
            "Epoch 282/500\n",
            "469/469 [==============================] - 2s 4ms/step - loss: 0.0223 - accuracy: 0.8777 - val_loss: 0.0214 - val_accuracy: 0.8870\n",
            "Epoch 283/500\n",
            "469/469 [==============================] - 2s 4ms/step - loss: 0.0223 - accuracy: 0.8779 - val_loss: 0.0214 - val_accuracy: 0.8870\n",
            "Epoch 284/500\n",
            "469/469 [==============================] - 2s 4ms/step - loss: 0.0222 - accuracy: 0.8781 - val_loss: 0.0213 - val_accuracy: 0.8871\n",
            "Epoch 285/500\n",
            "469/469 [==============================] - 2s 4ms/step - loss: 0.0222 - accuracy: 0.8782 - val_loss: 0.0213 - val_accuracy: 0.8872\n",
            "Epoch 286/500\n",
            "469/469 [==============================] - 2s 4ms/step - loss: 0.0221 - accuracy: 0.8783 - val_loss: 0.0212 - val_accuracy: 0.8872\n",
            "Epoch 287/500\n",
            "469/469 [==============================] - 2s 4ms/step - loss: 0.0221 - accuracy: 0.8785 - val_loss: 0.0212 - val_accuracy: 0.8876\n",
            "Epoch 288/500\n",
            "469/469 [==============================] - 2s 4ms/step - loss: 0.0220 - accuracy: 0.8788 - val_loss: 0.0212 - val_accuracy: 0.8878\n",
            "Epoch 289/500\n",
            "469/469 [==============================] - 2s 4ms/step - loss: 0.0220 - accuracy: 0.8789 - val_loss: 0.0211 - val_accuracy: 0.8880\n",
            "Epoch 290/500\n",
            "469/469 [==============================] - 2s 4ms/step - loss: 0.0220 - accuracy: 0.8791 - val_loss: 0.0211 - val_accuracy: 0.8881\n",
            "Epoch 291/500\n",
            "469/469 [==============================] - 2s 4ms/step - loss: 0.0219 - accuracy: 0.8792 - val_loss: 0.0210 - val_accuracy: 0.8881\n",
            "Epoch 292/500\n",
            "469/469 [==============================] - 2s 4ms/step - loss: 0.0219 - accuracy: 0.8793 - val_loss: 0.0210 - val_accuracy: 0.8883\n",
            "Epoch 293/500\n",
            "469/469 [==============================] - 2s 4ms/step - loss: 0.0218 - accuracy: 0.8795 - val_loss: 0.0209 - val_accuracy: 0.8885\n",
            "Epoch 294/500\n",
            "469/469 [==============================] - 2s 4ms/step - loss: 0.0218 - accuracy: 0.8795 - val_loss: 0.0209 - val_accuracy: 0.8888\n",
            "Epoch 295/500\n",
            "469/469 [==============================] - 2s 4ms/step - loss: 0.0217 - accuracy: 0.8797 - val_loss: 0.0209 - val_accuracy: 0.8889\n",
            "Epoch 296/500\n",
            "469/469 [==============================] - 2s 4ms/step - loss: 0.0217 - accuracy: 0.8798 - val_loss: 0.0208 - val_accuracy: 0.8890\n",
            "Epoch 297/500\n",
            "469/469 [==============================] - 2s 4ms/step - loss: 0.0217 - accuracy: 0.8800 - val_loss: 0.0208 - val_accuracy: 0.8892\n",
            "Epoch 298/500\n",
            "469/469 [==============================] - 2s 4ms/step - loss: 0.0216 - accuracy: 0.8802 - val_loss: 0.0207 - val_accuracy: 0.8894\n",
            "Epoch 299/500\n",
            "469/469 [==============================] - 2s 4ms/step - loss: 0.0216 - accuracy: 0.8804 - val_loss: 0.0207 - val_accuracy: 0.8898\n",
            "Epoch 300/500\n",
            "469/469 [==============================] - 2s 4ms/step - loss: 0.0215 - accuracy: 0.8806 - val_loss: 0.0206 - val_accuracy: 0.8899\n",
            "Epoch 301/500\n",
            "469/469 [==============================] - 2s 4ms/step - loss: 0.0215 - accuracy: 0.8806 - val_loss: 0.0206 - val_accuracy: 0.8898\n",
            "Epoch 302/500\n",
            "469/469 [==============================] - 2s 4ms/step - loss: 0.0215 - accuracy: 0.8808 - val_loss: 0.0206 - val_accuracy: 0.8899\n",
            "Epoch 303/500\n",
            "469/469 [==============================] - 2s 4ms/step - loss: 0.0214 - accuracy: 0.8809 - val_loss: 0.0205 - val_accuracy: 0.8901\n",
            "Epoch 304/500\n",
            "469/469 [==============================] - 2s 4ms/step - loss: 0.0214 - accuracy: 0.8809 - val_loss: 0.0205 - val_accuracy: 0.8902\n",
            "Epoch 305/500\n",
            "469/469 [==============================] - 2s 4ms/step - loss: 0.0213 - accuracy: 0.8810 - val_loss: 0.0205 - val_accuracy: 0.8902\n",
            "Epoch 306/500\n",
            "469/469 [==============================] - 2s 4ms/step - loss: 0.0213 - accuracy: 0.8812 - val_loss: 0.0204 - val_accuracy: 0.8902\n",
            "Epoch 307/500\n",
            "469/469 [==============================] - 2s 4ms/step - loss: 0.0213 - accuracy: 0.8813 - val_loss: 0.0204 - val_accuracy: 0.8902\n",
            "Epoch 308/500\n",
            "469/469 [==============================] - 2s 4ms/step - loss: 0.0212 - accuracy: 0.8814 - val_loss: 0.0203 - val_accuracy: 0.8903\n",
            "Epoch 309/500\n",
            "469/469 [==============================] - 2s 4ms/step - loss: 0.0212 - accuracy: 0.8816 - val_loss: 0.0203 - val_accuracy: 0.8907\n",
            "Epoch 310/500\n",
            "469/469 [==============================] - 2s 4ms/step - loss: 0.0212 - accuracy: 0.8817 - val_loss: 0.0203 - val_accuracy: 0.8907\n",
            "Epoch 311/500\n",
            "469/469 [==============================] - 2s 4ms/step - loss: 0.0211 - accuracy: 0.8818 - val_loss: 0.0202 - val_accuracy: 0.8908\n",
            "Epoch 312/500\n",
            "469/469 [==============================] - 2s 4ms/step - loss: 0.0211 - accuracy: 0.8820 - val_loss: 0.0202 - val_accuracy: 0.8912\n",
            "Epoch 313/500\n",
            "469/469 [==============================] - 2s 4ms/step - loss: 0.0210 - accuracy: 0.8822 - val_loss: 0.0202 - val_accuracy: 0.8913\n",
            "Epoch 314/500\n",
            "469/469 [==============================] - 2s 4ms/step - loss: 0.0210 - accuracy: 0.8823 - val_loss: 0.0201 - val_accuracy: 0.8915\n",
            "Epoch 315/500\n",
            "469/469 [==============================] - 2s 4ms/step - loss: 0.0210 - accuracy: 0.8825 - val_loss: 0.0201 - val_accuracy: 0.8917\n",
            "Epoch 316/500\n",
            "469/469 [==============================] - 2s 4ms/step - loss: 0.0209 - accuracy: 0.8827 - val_loss: 0.0200 - val_accuracy: 0.8917\n",
            "Epoch 317/500\n",
            "469/469 [==============================] - 2s 4ms/step - loss: 0.0209 - accuracy: 0.8828 - val_loss: 0.0200 - val_accuracy: 0.8917\n",
            "Epoch 318/500\n",
            "469/469 [==============================] - 2s 4ms/step - loss: 0.0209 - accuracy: 0.8830 - val_loss: 0.0200 - val_accuracy: 0.8919\n",
            "Epoch 319/500\n",
            "469/469 [==============================] - 2s 4ms/step - loss: 0.0208 - accuracy: 0.8831 - val_loss: 0.0199 - val_accuracy: 0.8920\n",
            "Epoch 320/500\n",
            "469/469 [==============================] - 2s 4ms/step - loss: 0.0208 - accuracy: 0.8832 - val_loss: 0.0199 - val_accuracy: 0.8920\n",
            "Epoch 321/500\n",
            "469/469 [==============================] - 2s 4ms/step - loss: 0.0208 - accuracy: 0.8834 - val_loss: 0.0199 - val_accuracy: 0.8920\n",
            "Epoch 322/500\n",
            "469/469 [==============================] - 2s 4ms/step - loss: 0.0207 - accuracy: 0.8835 - val_loss: 0.0198 - val_accuracy: 0.8921\n",
            "Epoch 323/500\n",
            "469/469 [==============================] - 2s 4ms/step - loss: 0.0207 - accuracy: 0.8836 - val_loss: 0.0198 - val_accuracy: 0.8924\n",
            "Epoch 324/500\n",
            "469/469 [==============================] - 2s 4ms/step - loss: 0.0207 - accuracy: 0.8838 - val_loss: 0.0198 - val_accuracy: 0.8925\n",
            "Epoch 325/500\n",
            "469/469 [==============================] - 2s 4ms/step - loss: 0.0206 - accuracy: 0.8839 - val_loss: 0.0197 - val_accuracy: 0.8924\n",
            "Epoch 326/500\n",
            "469/469 [==============================] - 2s 4ms/step - loss: 0.0206 - accuracy: 0.8842 - val_loss: 0.0197 - val_accuracy: 0.8924\n",
            "Epoch 327/500\n",
            "469/469 [==============================] - 2s 4ms/step - loss: 0.0206 - accuracy: 0.8843 - val_loss: 0.0197 - val_accuracy: 0.8924\n",
            "Epoch 328/500\n",
            "469/469 [==============================] - 2s 5ms/step - loss: 0.0205 - accuracy: 0.8844 - val_loss: 0.0196 - val_accuracy: 0.8924\n",
            "Epoch 329/500\n",
            "469/469 [==============================] - 2s 4ms/step - loss: 0.0205 - accuracy: 0.8845 - val_loss: 0.0196 - val_accuracy: 0.8925\n",
            "Epoch 330/500\n",
            "469/469 [==============================] - 2s 4ms/step - loss: 0.0205 - accuracy: 0.8846 - val_loss: 0.0196 - val_accuracy: 0.8924\n",
            "Epoch 331/500\n",
            "469/469 [==============================] - 2s 4ms/step - loss: 0.0204 - accuracy: 0.8847 - val_loss: 0.0195 - val_accuracy: 0.8927\n",
            "Epoch 332/500\n",
            "469/469 [==============================] - 2s 4ms/step - loss: 0.0204 - accuracy: 0.8850 - val_loss: 0.0195 - val_accuracy: 0.8928\n",
            "Epoch 333/500\n",
            "469/469 [==============================] - 2s 4ms/step - loss: 0.0204 - accuracy: 0.8850 - val_loss: 0.0195 - val_accuracy: 0.8929\n",
            "Epoch 334/500\n",
            "469/469 [==============================] - 2s 4ms/step - loss: 0.0203 - accuracy: 0.8850 - val_loss: 0.0195 - val_accuracy: 0.8927\n",
            "Epoch 335/500\n",
            "469/469 [==============================] - 2s 4ms/step - loss: 0.0203 - accuracy: 0.8852 - val_loss: 0.0194 - val_accuracy: 0.8928\n",
            "Epoch 336/500\n",
            "469/469 [==============================] - 2s 4ms/step - loss: 0.0203 - accuracy: 0.8853 - val_loss: 0.0194 - val_accuracy: 0.8929\n",
            "Epoch 337/500\n",
            "469/469 [==============================] - 2s 4ms/step - loss: 0.0202 - accuracy: 0.8855 - val_loss: 0.0194 - val_accuracy: 0.8930\n",
            "Epoch 338/500\n",
            "469/469 [==============================] - 2s 4ms/step - loss: 0.0202 - accuracy: 0.8856 - val_loss: 0.0193 - val_accuracy: 0.8929\n",
            "Epoch 339/500\n",
            "469/469 [==============================] - 2s 4ms/step - loss: 0.0202 - accuracy: 0.8857 - val_loss: 0.0193 - val_accuracy: 0.8929\n",
            "Epoch 340/500\n",
            "469/469 [==============================] - 2s 4ms/step - loss: 0.0201 - accuracy: 0.8858 - val_loss: 0.0193 - val_accuracy: 0.8930\n",
            "Epoch 341/500\n",
            "469/469 [==============================] - 2s 4ms/step - loss: 0.0201 - accuracy: 0.8859 - val_loss: 0.0192 - val_accuracy: 0.8930\n",
            "Epoch 342/500\n",
            "469/469 [==============================] - 2s 4ms/step - loss: 0.0201 - accuracy: 0.8861 - val_loss: 0.0192 - val_accuracy: 0.8929\n",
            "Epoch 343/500\n",
            "469/469 [==============================] - 2s 4ms/step - loss: 0.0201 - accuracy: 0.8861 - val_loss: 0.0192 - val_accuracy: 0.8931\n",
            "Epoch 344/500\n",
            "469/469 [==============================] - 2s 4ms/step - loss: 0.0200 - accuracy: 0.8863 - val_loss: 0.0192 - val_accuracy: 0.8933\n",
            "Epoch 345/500\n",
            "469/469 [==============================] - 2s 4ms/step - loss: 0.0200 - accuracy: 0.8863 - val_loss: 0.0191 - val_accuracy: 0.8931\n",
            "Epoch 346/500\n",
            "469/469 [==============================] - 2s 4ms/step - loss: 0.0200 - accuracy: 0.8863 - val_loss: 0.0191 - val_accuracy: 0.8931\n",
            "Epoch 347/500\n",
            "469/469 [==============================] - 2s 4ms/step - loss: 0.0199 - accuracy: 0.8865 - val_loss: 0.0191 - val_accuracy: 0.8934\n",
            "Epoch 348/500\n",
            "469/469 [==============================] - 2s 4ms/step - loss: 0.0199 - accuracy: 0.8867 - val_loss: 0.0190 - val_accuracy: 0.8935\n",
            "Epoch 349/500\n",
            "469/469 [==============================] - 2s 5ms/step - loss: 0.0199 - accuracy: 0.8866 - val_loss: 0.0190 - val_accuracy: 0.8935\n",
            "Epoch 350/500\n",
            "469/469 [==============================] - 2s 4ms/step - loss: 0.0199 - accuracy: 0.8867 - val_loss: 0.0190 - val_accuracy: 0.8937\n",
            "Epoch 351/500\n",
            "469/469 [==============================] - 2s 4ms/step - loss: 0.0198 - accuracy: 0.8869 - val_loss: 0.0190 - val_accuracy: 0.8938\n",
            "Epoch 352/500\n",
            "469/469 [==============================] - 2s 4ms/step - loss: 0.0198 - accuracy: 0.8870 - val_loss: 0.0189 - val_accuracy: 0.8937\n",
            "Epoch 353/500\n",
            "469/469 [==============================] - 2s 4ms/step - loss: 0.0198 - accuracy: 0.8870 - val_loss: 0.0189 - val_accuracy: 0.8936\n",
            "Epoch 354/500\n",
            "469/469 [==============================] - 2s 4ms/step - loss: 0.0197 - accuracy: 0.8871 - val_loss: 0.0189 - val_accuracy: 0.8937\n",
            "Epoch 355/500\n",
            "469/469 [==============================] - 2s 4ms/step - loss: 0.0197 - accuracy: 0.8872 - val_loss: 0.0188 - val_accuracy: 0.8938\n",
            "Epoch 356/500\n",
            "469/469 [==============================] - 2s 4ms/step - loss: 0.0197 - accuracy: 0.8873 - val_loss: 0.0188 - val_accuracy: 0.8942\n",
            "Epoch 357/500\n",
            "469/469 [==============================] - 2s 4ms/step - loss: 0.0197 - accuracy: 0.8874 - val_loss: 0.0188 - val_accuracy: 0.8943\n",
            "Epoch 358/500\n",
            "469/469 [==============================] - 2s 4ms/step - loss: 0.0196 - accuracy: 0.8875 - val_loss: 0.0188 - val_accuracy: 0.8945\n",
            "Epoch 359/500\n",
            "469/469 [==============================] - 2s 4ms/step - loss: 0.0196 - accuracy: 0.8877 - val_loss: 0.0187 - val_accuracy: 0.8947\n",
            "Epoch 360/500\n",
            "469/469 [==============================] - 2s 4ms/step - loss: 0.0196 - accuracy: 0.8878 - val_loss: 0.0187 - val_accuracy: 0.8948\n",
            "Epoch 361/500\n",
            "469/469 [==============================] - 2s 4ms/step - loss: 0.0196 - accuracy: 0.8879 - val_loss: 0.0187 - val_accuracy: 0.8950\n",
            "Epoch 362/500\n",
            "469/469 [==============================] - 2s 4ms/step - loss: 0.0195 - accuracy: 0.8880 - val_loss: 0.0187 - val_accuracy: 0.8951\n",
            "Epoch 363/500\n",
            "469/469 [==============================] - 2s 4ms/step - loss: 0.0195 - accuracy: 0.8881 - val_loss: 0.0186 - val_accuracy: 0.8953\n",
            "Epoch 364/500\n",
            "469/469 [==============================] - 2s 4ms/step - loss: 0.0195 - accuracy: 0.8882 - val_loss: 0.0186 - val_accuracy: 0.8953\n",
            "Epoch 365/500\n",
            "469/469 [==============================] - 2s 4ms/step - loss: 0.0195 - accuracy: 0.8881 - val_loss: 0.0186 - val_accuracy: 0.8954\n",
            "Epoch 366/500\n",
            "469/469 [==============================] - 2s 4ms/step - loss: 0.0194 - accuracy: 0.8883 - val_loss: 0.0186 - val_accuracy: 0.8955\n",
            "Epoch 367/500\n",
            "469/469 [==============================] - 2s 4ms/step - loss: 0.0194 - accuracy: 0.8885 - val_loss: 0.0185 - val_accuracy: 0.8958\n",
            "Epoch 368/500\n",
            "469/469 [==============================] - 2s 4ms/step - loss: 0.0194 - accuracy: 0.8886 - val_loss: 0.0185 - val_accuracy: 0.8959\n",
            "Epoch 369/500\n",
            "469/469 [==============================] - 2s 4ms/step - loss: 0.0194 - accuracy: 0.8887 - val_loss: 0.0185 - val_accuracy: 0.8960\n",
            "Epoch 370/500\n",
            "469/469 [==============================] - 2s 4ms/step - loss: 0.0193 - accuracy: 0.8888 - val_loss: 0.0185 - val_accuracy: 0.8961\n",
            "Epoch 371/500\n",
            "469/469 [==============================] - 2s 4ms/step - loss: 0.0193 - accuracy: 0.8888 - val_loss: 0.0184 - val_accuracy: 0.8961\n",
            "Epoch 372/500\n",
            "469/469 [==============================] - 2s 4ms/step - loss: 0.0193 - accuracy: 0.8890 - val_loss: 0.0184 - val_accuracy: 0.8962\n",
            "Epoch 373/500\n",
            "469/469 [==============================] - 2s 4ms/step - loss: 0.0193 - accuracy: 0.8891 - val_loss: 0.0184 - val_accuracy: 0.8962\n",
            "Epoch 374/500\n",
            "469/469 [==============================] - 2s 4ms/step - loss: 0.0192 - accuracy: 0.8892 - val_loss: 0.0184 - val_accuracy: 0.8963\n",
            "Epoch 375/500\n",
            "469/469 [==============================] - 2s 4ms/step - loss: 0.0192 - accuracy: 0.8893 - val_loss: 0.0183 - val_accuracy: 0.8965\n",
            "Epoch 376/500\n",
            "469/469 [==============================] - 2s 4ms/step - loss: 0.0192 - accuracy: 0.8894 - val_loss: 0.0183 - val_accuracy: 0.8966\n",
            "Epoch 377/500\n",
            "469/469 [==============================] - 2s 4ms/step - loss: 0.0192 - accuracy: 0.8895 - val_loss: 0.0183 - val_accuracy: 0.8967\n",
            "Epoch 378/500\n",
            "469/469 [==============================] - 2s 4ms/step - loss: 0.0191 - accuracy: 0.8896 - val_loss: 0.0183 - val_accuracy: 0.8969\n",
            "Epoch 379/500\n",
            "469/469 [==============================] - 2s 4ms/step - loss: 0.0191 - accuracy: 0.8896 - val_loss: 0.0182 - val_accuracy: 0.8970\n",
            "Epoch 380/500\n",
            "469/469 [==============================] - 2s 4ms/step - loss: 0.0191 - accuracy: 0.8898 - val_loss: 0.0182 - val_accuracy: 0.8970\n",
            "Epoch 381/500\n",
            "469/469 [==============================] - 2s 4ms/step - loss: 0.0191 - accuracy: 0.8900 - val_loss: 0.0182 - val_accuracy: 0.8971\n",
            "Epoch 382/500\n",
            "469/469 [==============================] - 2s 4ms/step - loss: 0.0190 - accuracy: 0.8900 - val_loss: 0.0182 - val_accuracy: 0.8971\n",
            "Epoch 383/500\n",
            "469/469 [==============================] - 2s 4ms/step - loss: 0.0190 - accuracy: 0.8901 - val_loss: 0.0182 - val_accuracy: 0.8973\n",
            "Epoch 384/500\n",
            "469/469 [==============================] - 2s 4ms/step - loss: 0.0190 - accuracy: 0.8902 - val_loss: 0.0181 - val_accuracy: 0.8975\n",
            "Epoch 385/500\n",
            "469/469 [==============================] - 2s 4ms/step - loss: 0.0190 - accuracy: 0.8903 - val_loss: 0.0181 - val_accuracy: 0.8976\n",
            "Epoch 386/500\n",
            "469/469 [==============================] - 2s 4ms/step - loss: 0.0189 - accuracy: 0.8904 - val_loss: 0.0181 - val_accuracy: 0.8978\n",
            "Epoch 387/500\n",
            "469/469 [==============================] - 2s 4ms/step - loss: 0.0189 - accuracy: 0.8903 - val_loss: 0.0181 - val_accuracy: 0.8978\n",
            "Epoch 388/500\n",
            "469/469 [==============================] - 2s 4ms/step - loss: 0.0189 - accuracy: 0.8904 - val_loss: 0.0180 - val_accuracy: 0.8980\n",
            "Epoch 389/500\n",
            "469/469 [==============================] - 2s 4ms/step - loss: 0.0189 - accuracy: 0.8906 - val_loss: 0.0180 - val_accuracy: 0.8981\n",
            "Epoch 390/500\n",
            "469/469 [==============================] - 2s 4ms/step - loss: 0.0189 - accuracy: 0.8906 - val_loss: 0.0180 - val_accuracy: 0.8980\n",
            "Epoch 391/500\n",
            "469/469 [==============================] - 2s 4ms/step - loss: 0.0188 - accuracy: 0.8908 - val_loss: 0.0180 - val_accuracy: 0.8983\n",
            "Epoch 392/500\n",
            "469/469 [==============================] - 2s 4ms/step - loss: 0.0188 - accuracy: 0.8908 - val_loss: 0.0180 - val_accuracy: 0.8986\n",
            "Epoch 393/500\n",
            "469/469 [==============================] - 2s 4ms/step - loss: 0.0188 - accuracy: 0.8909 - val_loss: 0.0179 - val_accuracy: 0.8987\n",
            "Epoch 394/500\n",
            "469/469 [==============================] - 2s 4ms/step - loss: 0.0188 - accuracy: 0.8910 - val_loss: 0.0179 - val_accuracy: 0.8988\n",
            "Epoch 395/500\n",
            "469/469 [==============================] - 2s 4ms/step - loss: 0.0188 - accuracy: 0.8910 - val_loss: 0.0179 - val_accuracy: 0.8988\n",
            "Epoch 396/500\n",
            "469/469 [==============================] - 2s 4ms/step - loss: 0.0187 - accuracy: 0.8912 - val_loss: 0.0179 - val_accuracy: 0.8990\n",
            "Epoch 397/500\n",
            "469/469 [==============================] - 2s 4ms/step - loss: 0.0187 - accuracy: 0.8913 - val_loss: 0.0179 - val_accuracy: 0.8989\n",
            "Epoch 398/500\n",
            "469/469 [==============================] - 2s 4ms/step - loss: 0.0187 - accuracy: 0.8913 - val_loss: 0.0178 - val_accuracy: 0.8990\n",
            "Epoch 399/500\n",
            "469/469 [==============================] - 2s 4ms/step - loss: 0.0187 - accuracy: 0.8914 - val_loss: 0.0178 - val_accuracy: 0.8989\n",
            "Epoch 400/500\n",
            "469/469 [==============================] - 2s 4ms/step - loss: 0.0186 - accuracy: 0.8914 - val_loss: 0.0178 - val_accuracy: 0.8989\n",
            "Epoch 401/500\n",
            "469/469 [==============================] - 2s 4ms/step - loss: 0.0186 - accuracy: 0.8915 - val_loss: 0.0178 - val_accuracy: 0.8989\n",
            "Epoch 402/500\n",
            "469/469 [==============================] - 2s 4ms/step - loss: 0.0186 - accuracy: 0.8917 - val_loss: 0.0177 - val_accuracy: 0.8989\n",
            "Epoch 403/500\n",
            "469/469 [==============================] - 2s 4ms/step - loss: 0.0186 - accuracy: 0.8918 - val_loss: 0.0177 - val_accuracy: 0.8989\n",
            "Epoch 404/500\n",
            "469/469 [==============================] - 2s 4ms/step - loss: 0.0186 - accuracy: 0.8918 - val_loss: 0.0177 - val_accuracy: 0.8987\n",
            "Epoch 405/500\n",
            "469/469 [==============================] - 2s 4ms/step - loss: 0.0185 - accuracy: 0.8920 - val_loss: 0.0177 - val_accuracy: 0.8989\n",
            "Epoch 406/500\n",
            "469/469 [==============================] - 2s 5ms/step - loss: 0.0185 - accuracy: 0.8920 - val_loss: 0.0177 - val_accuracy: 0.8988\n",
            "Epoch 407/500\n",
            "469/469 [==============================] - 2s 4ms/step - loss: 0.0185 - accuracy: 0.8921 - val_loss: 0.0176 - val_accuracy: 0.8988\n",
            "Epoch 408/500\n",
            "469/469 [==============================] - 2s 4ms/step - loss: 0.0185 - accuracy: 0.8922 - val_loss: 0.0176 - val_accuracy: 0.8990\n",
            "Epoch 409/500\n",
            "469/469 [==============================] - 2s 4ms/step - loss: 0.0185 - accuracy: 0.8923 - val_loss: 0.0176 - val_accuracy: 0.8990\n",
            "Epoch 410/500\n",
            "469/469 [==============================] - 2s 4ms/step - loss: 0.0184 - accuracy: 0.8924 - val_loss: 0.0176 - val_accuracy: 0.8990\n",
            "Epoch 411/500\n",
            "469/469 [==============================] - 2s 4ms/step - loss: 0.0184 - accuracy: 0.8925 - val_loss: 0.0176 - val_accuracy: 0.8990\n",
            "Epoch 412/500\n",
            "469/469 [==============================] - 2s 4ms/step - loss: 0.0184 - accuracy: 0.8926 - val_loss: 0.0175 - val_accuracy: 0.8990\n",
            "Epoch 413/500\n",
            "469/469 [==============================] - 2s 4ms/step - loss: 0.0184 - accuracy: 0.8927 - val_loss: 0.0175 - val_accuracy: 0.8991\n",
            "Epoch 414/500\n",
            "469/469 [==============================] - 2s 4ms/step - loss: 0.0184 - accuracy: 0.8928 - val_loss: 0.0175 - val_accuracy: 0.8993\n",
            "Epoch 415/500\n",
            "469/469 [==============================] - 2s 4ms/step - loss: 0.0183 - accuracy: 0.8928 - val_loss: 0.0175 - val_accuracy: 0.8993\n",
            "Epoch 416/500\n",
            "469/469 [==============================] - 2s 4ms/step - loss: 0.0183 - accuracy: 0.8929 - val_loss: 0.0175 - val_accuracy: 0.8996\n",
            "Epoch 417/500\n",
            "469/469 [==============================] - 2s 4ms/step - loss: 0.0183 - accuracy: 0.8930 - val_loss: 0.0175 - val_accuracy: 0.8996\n",
            "Epoch 418/500\n",
            "469/469 [==============================] - 2s 4ms/step - loss: 0.0183 - accuracy: 0.8930 - val_loss: 0.0174 - val_accuracy: 0.8999\n",
            "Epoch 419/500\n",
            "469/469 [==============================] - 2s 4ms/step - loss: 0.0183 - accuracy: 0.8931 - val_loss: 0.0174 - val_accuracy: 0.8999\n",
            "Epoch 420/500\n",
            "469/469 [==============================] - 2s 4ms/step - loss: 0.0182 - accuracy: 0.8932 - val_loss: 0.0174 - val_accuracy: 0.9000\n",
            "Epoch 421/500\n",
            "469/469 [==============================] - 2s 4ms/step - loss: 0.0182 - accuracy: 0.8932 - val_loss: 0.0174 - val_accuracy: 0.9001\n",
            "Epoch 422/500\n",
            "469/469 [==============================] - 2s 4ms/step - loss: 0.0182 - accuracy: 0.8933 - val_loss: 0.0174 - val_accuracy: 0.9001\n",
            "Epoch 423/500\n",
            "469/469 [==============================] - 2s 4ms/step - loss: 0.0182 - accuracy: 0.8935 - val_loss: 0.0173 - val_accuracy: 0.9000\n",
            "Epoch 424/500\n",
            "469/469 [==============================] - 2s 4ms/step - loss: 0.0182 - accuracy: 0.8935 - val_loss: 0.0173 - val_accuracy: 0.8999\n",
            "Epoch 425/500\n",
            "469/469 [==============================] - 2s 4ms/step - loss: 0.0182 - accuracy: 0.8936 - val_loss: 0.0173 - val_accuracy: 0.9000\n",
            "Epoch 426/500\n",
            "469/469 [==============================] - 2s 4ms/step - loss: 0.0181 - accuracy: 0.8938 - val_loss: 0.0173 - val_accuracy: 0.9000\n",
            "Epoch 427/500\n",
            "469/469 [==============================] - 2s 5ms/step - loss: 0.0181 - accuracy: 0.8937 - val_loss: 0.0173 - val_accuracy: 0.9001\n",
            "Epoch 428/500\n",
            "469/469 [==============================] - 2s 4ms/step - loss: 0.0181 - accuracy: 0.8938 - val_loss: 0.0173 - val_accuracy: 0.9001\n",
            "Epoch 429/500\n",
            "469/469 [==============================] - 2s 4ms/step - loss: 0.0181 - accuracy: 0.8939 - val_loss: 0.0172 - val_accuracy: 0.9000\n",
            "Epoch 430/500\n",
            "469/469 [==============================] - 2s 4ms/step - loss: 0.0181 - accuracy: 0.8939 - val_loss: 0.0172 - val_accuracy: 0.9000\n",
            "Epoch 431/500\n",
            "469/469 [==============================] - 2s 4ms/step - loss: 0.0180 - accuracy: 0.8940 - val_loss: 0.0172 - val_accuracy: 0.8999\n",
            "Epoch 432/500\n",
            "469/469 [==============================] - 2s 4ms/step - loss: 0.0180 - accuracy: 0.8942 - val_loss: 0.0172 - val_accuracy: 0.9000\n",
            "Epoch 433/500\n",
            "469/469 [==============================] - 2s 4ms/step - loss: 0.0180 - accuracy: 0.8942 - val_loss: 0.0172 - val_accuracy: 0.9002\n",
            "Epoch 434/500\n",
            "469/469 [==============================] - 2s 4ms/step - loss: 0.0180 - accuracy: 0.8943 - val_loss: 0.0171 - val_accuracy: 0.9002\n",
            "Epoch 435/500\n",
            "469/469 [==============================] - 2s 4ms/step - loss: 0.0180 - accuracy: 0.8943 - val_loss: 0.0171 - val_accuracy: 0.9002\n",
            "Epoch 436/500\n",
            "469/469 [==============================] - 2s 4ms/step - loss: 0.0180 - accuracy: 0.8944 - val_loss: 0.0171 - val_accuracy: 0.9003\n",
            "Epoch 437/500\n",
            "469/469 [==============================] - 2s 4ms/step - loss: 0.0179 - accuracy: 0.8945 - val_loss: 0.0171 - val_accuracy: 0.9003\n",
            "Epoch 438/500\n",
            "469/469 [==============================] - 2s 4ms/step - loss: 0.0179 - accuracy: 0.8946 - val_loss: 0.0171 - val_accuracy: 0.9004\n",
            "Epoch 439/500\n",
            "469/469 [==============================] - 2s 4ms/step - loss: 0.0179 - accuracy: 0.8946 - val_loss: 0.0171 - val_accuracy: 0.9004\n",
            "Epoch 440/500\n",
            "469/469 [==============================] - 2s 4ms/step - loss: 0.0179 - accuracy: 0.8947 - val_loss: 0.0170 - val_accuracy: 0.9004\n",
            "Epoch 441/500\n",
            "469/469 [==============================] - 2s 4ms/step - loss: 0.0179 - accuracy: 0.8949 - val_loss: 0.0170 - val_accuracy: 0.9005\n",
            "Epoch 442/500\n",
            "469/469 [==============================] - 2s 4ms/step - loss: 0.0178 - accuracy: 0.8949 - val_loss: 0.0170 - val_accuracy: 0.9005\n",
            "Epoch 443/500\n",
            "469/469 [==============================] - 2s 4ms/step - loss: 0.0178 - accuracy: 0.8950 - val_loss: 0.0170 - val_accuracy: 0.9006\n",
            "Epoch 444/500\n",
            "469/469 [==============================] - 2s 4ms/step - loss: 0.0178 - accuracy: 0.8950 - val_loss: 0.0170 - val_accuracy: 0.9006\n",
            "Epoch 445/500\n",
            "469/469 [==============================] - 2s 4ms/step - loss: 0.0178 - accuracy: 0.8952 - val_loss: 0.0170 - val_accuracy: 0.9005\n",
            "Epoch 446/500\n",
            "469/469 [==============================] - 2s 4ms/step - loss: 0.0178 - accuracy: 0.8953 - val_loss: 0.0169 - val_accuracy: 0.9005\n",
            "Epoch 447/500\n",
            "469/469 [==============================] - 2s 4ms/step - loss: 0.0178 - accuracy: 0.8953 - val_loss: 0.0169 - val_accuracy: 0.9005\n",
            "Epoch 448/500\n",
            "469/469 [==============================] - 2s 4ms/step - loss: 0.0177 - accuracy: 0.8954 - val_loss: 0.0169 - val_accuracy: 0.9005\n",
            "Epoch 449/500\n",
            "469/469 [==============================] - 2s 4ms/step - loss: 0.0177 - accuracy: 0.8955 - val_loss: 0.0169 - val_accuracy: 0.9005\n",
            "Epoch 450/500\n",
            "469/469 [==============================] - 2s 4ms/step - loss: 0.0177 - accuracy: 0.8955 - val_loss: 0.0169 - val_accuracy: 0.9006\n",
            "Epoch 451/500\n",
            "469/469 [==============================] - 2s 4ms/step - loss: 0.0177 - accuracy: 0.8956 - val_loss: 0.0169 - val_accuracy: 0.9006\n",
            "Epoch 452/500\n",
            "469/469 [==============================] - 2s 4ms/step - loss: 0.0177 - accuracy: 0.8956 - val_loss: 0.0168 - val_accuracy: 0.9006\n",
            "Epoch 453/500\n",
            "469/469 [==============================] - 2s 4ms/step - loss: 0.0177 - accuracy: 0.8957 - val_loss: 0.0168 - val_accuracy: 0.9006\n",
            "Epoch 454/500\n",
            "469/469 [==============================] - 2s 4ms/step - loss: 0.0176 - accuracy: 0.8959 - val_loss: 0.0168 - val_accuracy: 0.9006\n",
            "Epoch 455/500\n",
            "469/469 [==============================] - 2s 4ms/step - loss: 0.0176 - accuracy: 0.8959 - val_loss: 0.0168 - val_accuracy: 0.9006\n",
            "Epoch 456/500\n",
            "469/469 [==============================] - 2s 4ms/step - loss: 0.0176 - accuracy: 0.8961 - val_loss: 0.0168 - val_accuracy: 0.9007\n",
            "Epoch 457/500\n",
            "469/469 [==============================] - 2s 4ms/step - loss: 0.0176 - accuracy: 0.8960 - val_loss: 0.0168 - val_accuracy: 0.9008\n",
            "Epoch 458/500\n",
            "469/469 [==============================] - 2s 4ms/step - loss: 0.0176 - accuracy: 0.8962 - val_loss: 0.0168 - val_accuracy: 0.9008\n",
            "Epoch 459/500\n",
            "469/469 [==============================] - 2s 4ms/step - loss: 0.0176 - accuracy: 0.8962 - val_loss: 0.0167 - val_accuracy: 0.9008\n",
            "Epoch 460/500\n",
            "469/469 [==============================] - 2s 4ms/step - loss: 0.0176 - accuracy: 0.8961 - val_loss: 0.0167 - val_accuracy: 0.9008\n",
            "Epoch 461/500\n",
            "469/469 [==============================] - 2s 4ms/step - loss: 0.0175 - accuracy: 0.8962 - val_loss: 0.0167 - val_accuracy: 0.9008\n",
            "Epoch 462/500\n",
            "469/469 [==============================] - 2s 4ms/step - loss: 0.0175 - accuracy: 0.8962 - val_loss: 0.0167 - val_accuracy: 0.9008\n",
            "Epoch 463/500\n",
            "469/469 [==============================] - 2s 4ms/step - loss: 0.0175 - accuracy: 0.8964 - val_loss: 0.0167 - val_accuracy: 0.9009\n",
            "Epoch 464/500\n",
            "469/469 [==============================] - 2s 4ms/step - loss: 0.0175 - accuracy: 0.8963 - val_loss: 0.0167 - val_accuracy: 0.9009\n",
            "Epoch 465/500\n",
            "469/469 [==============================] - 2s 4ms/step - loss: 0.0175 - accuracy: 0.8964 - val_loss: 0.0166 - val_accuracy: 0.9010\n",
            "Epoch 466/500\n",
            "469/469 [==============================] - 2s 4ms/step - loss: 0.0175 - accuracy: 0.8965 - val_loss: 0.0166 - val_accuracy: 0.9010\n",
            "Epoch 467/500\n",
            "469/469 [==============================] - 2s 4ms/step - loss: 0.0174 - accuracy: 0.8966 - val_loss: 0.0166 - val_accuracy: 0.9012\n",
            "Epoch 468/500\n",
            "469/469 [==============================] - 2s 4ms/step - loss: 0.0174 - accuracy: 0.8965 - val_loss: 0.0166 - val_accuracy: 0.9012\n",
            "Epoch 469/500\n",
            "469/469 [==============================] - 2s 4ms/step - loss: 0.0174 - accuracy: 0.8966 - val_loss: 0.0166 - val_accuracy: 0.9012\n",
            "Epoch 470/500\n",
            "469/469 [==============================] - 2s 4ms/step - loss: 0.0174 - accuracy: 0.8967 - val_loss: 0.0166 - val_accuracy: 0.9013\n",
            "Epoch 471/500\n",
            "469/469 [==============================] - 2s 4ms/step - loss: 0.0174 - accuracy: 0.8968 - val_loss: 0.0166 - val_accuracy: 0.9014\n",
            "Epoch 472/500\n",
            "469/469 [==============================] - 2s 4ms/step - loss: 0.0174 - accuracy: 0.8968 - val_loss: 0.0165 - val_accuracy: 0.9016\n",
            "Epoch 473/500\n",
            "469/469 [==============================] - 2s 4ms/step - loss: 0.0174 - accuracy: 0.8971 - val_loss: 0.0165 - val_accuracy: 0.9016\n",
            "Epoch 474/500\n",
            "469/469 [==============================] - 2s 4ms/step - loss: 0.0173 - accuracy: 0.8971 - val_loss: 0.0165 - val_accuracy: 0.9016\n",
            "Epoch 475/500\n",
            "469/469 [==============================] - 2s 4ms/step - loss: 0.0173 - accuracy: 0.8972 - val_loss: 0.0165 - val_accuracy: 0.9016\n",
            "Epoch 476/500\n",
            "469/469 [==============================] - 2s 4ms/step - loss: 0.0173 - accuracy: 0.8973 - val_loss: 0.0165 - val_accuracy: 0.9016\n",
            "Epoch 477/500\n",
            "469/469 [==============================] - 2s 4ms/step - loss: 0.0173 - accuracy: 0.8974 - val_loss: 0.0165 - val_accuracy: 0.9017\n",
            "Epoch 478/500\n",
            "469/469 [==============================] - 2s 4ms/step - loss: 0.0173 - accuracy: 0.8974 - val_loss: 0.0165 - val_accuracy: 0.9017\n",
            "Epoch 479/500\n",
            "469/469 [==============================] - 2s 4ms/step - loss: 0.0173 - accuracy: 0.8976 - val_loss: 0.0164 - val_accuracy: 0.9017\n",
            "Epoch 480/500\n",
            "469/469 [==============================] - 2s 4ms/step - loss: 0.0173 - accuracy: 0.8976 - val_loss: 0.0164 - val_accuracy: 0.9021\n",
            "Epoch 481/500\n",
            "469/469 [==============================] - 2s 4ms/step - loss: 0.0172 - accuracy: 0.8976 - val_loss: 0.0164 - val_accuracy: 0.9020\n",
            "Epoch 482/500\n",
            "469/469 [==============================] - 2s 4ms/step - loss: 0.0172 - accuracy: 0.8977 - val_loss: 0.0164 - val_accuracy: 0.9019\n",
            "Epoch 483/500\n",
            "469/469 [==============================] - 2s 5ms/step - loss: 0.0172 - accuracy: 0.8977 - val_loss: 0.0164 - val_accuracy: 0.9019\n",
            "Epoch 484/500\n",
            "469/469 [==============================] - 2s 5ms/step - loss: 0.0172 - accuracy: 0.8978 - val_loss: 0.0164 - val_accuracy: 0.9019\n",
            "Epoch 485/500\n",
            "469/469 [==============================] - 2s 4ms/step - loss: 0.0172 - accuracy: 0.8979 - val_loss: 0.0164 - val_accuracy: 0.9019\n",
            "Epoch 486/500\n",
            "469/469 [==============================] - 2s 4ms/step - loss: 0.0172 - accuracy: 0.8979 - val_loss: 0.0163 - val_accuracy: 0.9020\n",
            "Epoch 487/500\n",
            "469/469 [==============================] - 2s 4ms/step - loss: 0.0172 - accuracy: 0.8980 - val_loss: 0.0163 - val_accuracy: 0.9021\n",
            "Epoch 488/500\n",
            "469/469 [==============================] - 2s 4ms/step - loss: 0.0171 - accuracy: 0.8981 - val_loss: 0.0163 - val_accuracy: 0.9023\n",
            "Epoch 489/500\n",
            "469/469 [==============================] - 2s 4ms/step - loss: 0.0171 - accuracy: 0.8981 - val_loss: 0.0163 - val_accuracy: 0.9023\n",
            "Epoch 490/500\n",
            "469/469 [==============================] - 2s 4ms/step - loss: 0.0171 - accuracy: 0.8982 - val_loss: 0.0163 - val_accuracy: 0.9023\n",
            "Epoch 491/500\n",
            "469/469 [==============================] - 2s 4ms/step - loss: 0.0171 - accuracy: 0.8982 - val_loss: 0.0163 - val_accuracy: 0.9023\n",
            "Epoch 492/500\n",
            "469/469 [==============================] - 2s 4ms/step - loss: 0.0171 - accuracy: 0.8983 - val_loss: 0.0163 - val_accuracy: 0.9023\n",
            "Epoch 493/500\n",
            "469/469 [==============================] - 2s 4ms/step - loss: 0.0171 - accuracy: 0.8983 - val_loss: 0.0163 - val_accuracy: 0.9023\n",
            "Epoch 494/500\n",
            "469/469 [==============================] - 2s 4ms/step - loss: 0.0171 - accuracy: 0.8983 - val_loss: 0.0162 - val_accuracy: 0.9024\n",
            "Epoch 495/500\n",
            "469/469 [==============================] - 2s 4ms/step - loss: 0.0170 - accuracy: 0.8984 - val_loss: 0.0162 - val_accuracy: 0.9023\n",
            "Epoch 496/500\n",
            "469/469 [==============================] - 2s 4ms/step - loss: 0.0170 - accuracy: 0.8985 - val_loss: 0.0162 - val_accuracy: 0.9024\n",
            "Epoch 497/500\n",
            "469/469 [==============================] - 2s 4ms/step - loss: 0.0170 - accuracy: 0.8986 - val_loss: 0.0162 - val_accuracy: 0.9025\n",
            "Epoch 498/500\n",
            "469/469 [==============================] - 2s 4ms/step - loss: 0.0170 - accuracy: 0.8986 - val_loss: 0.0162 - val_accuracy: 0.9026\n",
            "Epoch 499/500\n",
            "469/469 [==============================] - 2s 4ms/step - loss: 0.0170 - accuracy: 0.8988 - val_loss: 0.0162 - val_accuracy: 0.9026\n",
            "Epoch 500/500\n",
            "469/469 [==============================] - 2s 4ms/step - loss: 0.0170 - accuracy: 0.8987 - val_loss: 0.0162 - val_accuracy: 0.9027\n"
          ]
        }
      ]
    },
    {
      "cell_type": "markdown",
      "metadata": {
        "id": "8AJ6owdTR1UA"
      },
      "source": [
        "### Plot learning curves"
      ]
    },
    {
      "cell_type": "code",
      "metadata": {
        "id": "QF8qu8ByR314",
        "colab": {
          "base_uri": "https://localhost:8080/",
          "height": 591
        },
        "outputId": "f5eb90fb-ad44-4727-c006-ddd2022bc0db"
      },
      "source": [
        "# list all data in history\n",
        "print(history.history.keys())\n",
        "\n",
        "# summarize history for accuracy\n",
        "plt.plot(history.history['accuracy'])\n",
        "plt.plot(history.history['val_accuracy'])\n",
        "plt.title('model accuracy')\n",
        "plt.ylabel('accuracy')\n",
        "plt.xlabel('epoch')\n",
        "plt.legend(['train', 'test'], loc='upper left')\n",
        "plt.show()\n",
        "\n",
        "# summarize history for loss\n",
        "plt.plot(history.history['loss'])\n",
        "plt.plot(history.history['val_loss'])\n",
        "plt.title('model loss')\n",
        "plt.ylabel('loss')\n",
        "plt.xlabel('epoch')\n",
        "plt.legend(['train', 'test'], loc='upper left')\n",
        "plt.show()"
      ],
      "execution_count": null,
      "outputs": [
        {
          "output_type": "stream",
          "name": "stdout",
          "text": [
            "dict_keys(['loss', 'accuracy', 'val_loss', 'val_accuracy'])\n"
          ]
        },
        {
          "output_type": "display_data",
          "data": {
            "text/plain": [
              "<Figure size 432x288 with 1 Axes>"
            ],
            "image/png": "[encoded data removed]"
          },
          "metadata": {
            "needs_background": "light"
          }
        },
        {
          "output_type": "display_data",
          "data": {
            "text/plain": [
              "<Figure size 432x288 with 1 Axes>"
            ],
            "image/png": "[encoded data removed]"
          },
          "metadata": {
            "needs_background": "light"
          }
        }
      ]
    },
    {
      "cell_type": "markdown",
      "metadata": {
        "id": "763bQLbzQmw4"
      },
      "source": [
        "### Evaluate the model"
      ]
    },
    {
      "cell_type": "code",
      "metadata": {
        "id": "2siGhXrm-6rb",
        "colab": {
          "base_uri": "https://localhost:8080/"
        },
        "outputId": "6897d3ca-bb9d-46cc-b0c5-95ec66a6d28e"
      },
      "source": [
        "model.evaluate(X_validation, y_validation)"
      ],
      "execution_count": null,
      "outputs": [
        {
          "output_type": "stream",
          "name": "stdout",
          "text": [
            "313/313 [==============================] - 1s 2ms/step - loss: 0.0162 - accuracy: 0.9027\n"
          ]
        },
        {
          "output_type": "execute_result",
          "data": {
            "text/plain": [
              "[0.01616216078400612, 0.9027000069618225]"
            ]
          },
          "metadata": {},
          "execution_count": 22
        }
      ]
    },
    {
      "cell_type": "markdown",
      "metadata": {
        "id": "ARXGXxbZ3vlD"
      },
      "source": [
        "### TODO 3\n",
        "\n",
        "Write code to display the confusion matrix for your classifier and comment on the insights such confusion matrix provides.\n",
        "\n",
        "See [this](https://scikit-learn.org/stable/auto_examples/classification/plot_digits_classification.html) for an example."
      ]
    },
    {
      "cell_type": "markdown",
      "metadata": {
        "id": "lJetC7rA36VT"
      },
      "source": [
        "### (OPTIONAL) TODO 4\n",
        "\n",
        "Write code to display 10 cases where the classifier makes mistakes. Make sure to display both the true value as well as the predicted value.\n"
      ]
    },
    {
      "cell_type": "markdown",
      "metadata": {
        "id": "C15mmBXeW3ZG"
      },
      "source": [
        "## PART 2 - Convolutional neural network (CNN) architecture"
      ]
    },
    {
      "cell_type": "code",
      "metadata": {
        "id": "eyTJv6yKapB9",
        "colab": {
          "base_uri": "https://localhost:8080/"
        },
        "outputId": "428084f1-b5dd-442f-b9dd-de1b7f0f7b89"
      },
      "source": [
        "model_cnn = keras.Sequential(\n",
        "    [\n",
        "        keras.layers.InputLayer(input_shape),\n",
        "        layers.Conv2D(32, kernel_size=(3, 3), activation=\"relu\"),\n",
        "        layers.MaxPooling2D(pool_size=(2, 2)),\n",
        "        layers.Conv2D(64, kernel_size=(3, 3), activation=\"relu\"),\n",
        "        layers.MaxPooling2D(pool_size=(2, 2)),\n",
        "        layers.Flatten(),\n",
        "        layers.Dropout(0.5),\n",
        "        layers.Dense(num_classes, activation=\"softmax\"),\n",
        "    ]\n",
        ")\n",
        "\n",
        "model_cnn.summary()"
      ],
      "execution_count": null,
      "outputs": [
        {
          "output_type": "stream",
          "name": "stdout",
          "text": [
            "Model: \"sequential_1\"\n",
            "_________________________________________________________________\n",
            " Layer (type)                Output Shape              Param #   \n",
            "=================================================================\n",
            " conv2d (Conv2D)             (None, 26, 26, 32)        320       \n",
            "                                                                 \n",
            " max_pooling2d (MaxPooling2D  (None, 13, 13, 32)       0         \n",
            " )                                                               \n",
            "                                                                 \n",
            " conv2d_1 (Conv2D)           (None, 11, 11, 64)        18496     \n",
            "                                                                 \n",
            " max_pooling2d_1 (MaxPooling  (None, 5, 5, 64)         0         \n",
            " 2D)                                                             \n",
            "                                                                 \n",
            " flatten (Flatten)           (None, 1600)              0         \n",
            "                                                                 \n",
            " dropout (Dropout)           (None, 1600)              0         \n",
            "                                                                 \n",
            " dense_2 (Dense)             (None, 10)                16010     \n",
            "                                                                 \n",
            "=================================================================\n",
            "Total params: 34,826\n",
            "Trainable params: 34,826\n",
            "Non-trainable params: 0\n",
            "_________________________________________________________________\n"
          ]
        }
      ]
    },
    {
      "cell_type": "markdown",
      "metadata": {
        "id": "9GWxzAaaCqVb"
      },
      "source": [
        "### Configure model"
      ]
    },
    {
      "cell_type": "code",
      "metadata": {
        "id": "TQhlw1_OaQQx"
      },
      "source": [
        "model_cnn.compile(\n",
        "    loss=\"categorical_crossentropy\", \n",
        "    optimizer=\"adam\", \n",
        "    metrics=[\"accuracy\"]\n",
        ")"
      ],
      "execution_count": null,
      "outputs": []
    },
    {
      "cell_type": "markdown",
      "metadata": {
        "id": "COvZ_7gCEjLc"
      },
      "source": [
        "### Prepare the data\n",
        "The CNN does not expect the images to be flattened."
      ]
    },
    {
      "cell_type": "code",
      "metadata": {
        "id": "fPPpaSaUEv-3",
        "colab": {
          "base_uri": "https://localhost:8080/"
        },
        "outputId": "86cbaf10-1407-48eb-ef9b-4ff59f3bcb05"
      },
      "source": [
        "# Reload the data, just in case\n",
        "(X_train, y_train), (X_valid, y_valid) = mnist.load_data()\n",
        "\n",
        "# convert class vectors to binary class matrices\n",
        "y_training = keras.utils.to_categorical(y_train, num_classes)\n",
        "y_validation = keras.utils.to_categorical(y_valid, num_classes)\n",
        "\n",
        "# Scale images to the [0, 1] range\n",
        "X_train_cnn = X_train.astype(\"float32\") / 255\n",
        "X_valid_cnn = X_valid.astype(\"float32\") / 255\n",
        "\n",
        "# Redefine  dimension of train/test inputs\n",
        "X_train_cnn = np.expand_dims(X_train_cnn, -1)\n",
        "X_valid_cnn = np.expand_dims(X_valid_cnn, -1)\n",
        "\n",
        "# Make sure images have shape (28, 28, 1)\n",
        "print(\"x_train shape:\", X_train_cnn.shape)\n",
        "print(X_train_cnn.shape[0], \"train samples\")\n",
        "print(X_valid_cnn.shape[0], \"test samples\")"
      ],
      "execution_count": null,
      "outputs": [
        {
          "output_type": "stream",
          "name": "stdout",
          "text": [
            "x_train shape: (60000, 28, 28, 1)\n",
            "60000 train samples\n",
            "10000 test samples\n"
          ]
        }
      ]
    },
    {
      "cell_type": "markdown",
      "metadata": {
        "id": "yqbkD3arDAI4"
      },
      "source": [
        "### Train!\n"
      ]
    },
    {
      "cell_type": "code",
      "metadata": {
        "id": "1i6Pypg0C4Jq",
        "colab": {
          "base_uri": "https://localhost:8080/"
        },
        "outputId": "4865517f-55cc-4c6d-d0ea-eb4f4853cb34"
      },
      "source": [
        "batch_size=128\n",
        "epochs=15\n",
        "\n",
        "history = model_cnn.fit(\n",
        "  X_train_cnn, # training data\n",
        "  y_training, # training targets\n",
        "  epochs=epochs,\n",
        "  batch_size=batch_size,\n",
        "  verbose=1,\n",
        "  validation_data=(X_valid_cnn, y_validation)\n",
        ")"
      ],
      "execution_count": null,
      "outputs": [
        {
          "output_type": "stream",
          "name": "stdout",
          "text": [
            "Epoch 1/15\n",
            "469/469 [==============================] - 10s 6ms/step - loss: 0.3376 - accuracy: 0.8977 - val_loss: 0.0826 - val_accuracy: 0.9744\n",
            "Epoch 2/15\n",
            "469/469 [==============================] - 3s 6ms/step - loss: 0.1026 - accuracy: 0.9690 - val_loss: 0.0560 - val_accuracy: 0.9828\n",
            "Epoch 3/15\n",
            "469/469 [==============================] - 3s 5ms/step - loss: 0.0777 - accuracy: 0.9764 - val_loss: 0.0442 - val_accuracy: 0.9859\n",
            "Epoch 4/15\n",
            "469/469 [==============================] - 3s 6ms/step - loss: 0.0665 - accuracy: 0.9790 - val_loss: 0.0370 - val_accuracy: 0.9876\n",
            "Epoch 5/15\n",
            "469/469 [==============================] - 3s 6ms/step - loss: 0.0587 - accuracy: 0.9819 - val_loss: 0.0331 - val_accuracy: 0.9886\n",
            "Epoch 6/15\n",
            "469/469 [==============================] - 3s 5ms/step - loss: 0.0519 - accuracy: 0.9835 - val_loss: 0.0327 - val_accuracy: 0.9879\n",
            "Epoch 7/15\n",
            "469/469 [==============================] - 3s 6ms/step - loss: 0.0483 - accuracy: 0.9855 - val_loss: 0.0362 - val_accuracy: 0.9873\n",
            "Epoch 8/15\n",
            "469/469 [==============================] - 3s 6ms/step - loss: 0.0436 - accuracy: 0.9859 - val_loss: 0.0281 - val_accuracy: 0.9894\n",
            "Epoch 9/15\n",
            "469/469 [==============================] - 3s 5ms/step - loss: 0.0419 - accuracy: 0.9870 - val_loss: 0.0279 - val_accuracy: 0.9905\n",
            "Epoch 10/15\n",
            "469/469 [==============================] - 3s 6ms/step - loss: 0.0395 - accuracy: 0.9874 - val_loss: 0.0252 - val_accuracy: 0.9910\n",
            "Epoch 11/15\n",
            "469/469 [==============================] - 3s 6ms/step - loss: 0.0372 - accuracy: 0.9882 - val_loss: 0.0254 - val_accuracy: 0.9910\n",
            "Epoch 12/15\n",
            "469/469 [==============================] - 3s 5ms/step - loss: 0.0353 - accuracy: 0.9889 - val_loss: 0.0243 - val_accuracy: 0.9910\n",
            "Epoch 13/15\n",
            "469/469 [==============================] - 3s 5ms/step - loss: 0.0330 - accuracy: 0.9894 - val_loss: 0.0235 - val_accuracy: 0.9925\n",
            "Epoch 14/15\n",
            "469/469 [==============================] - 3s 5ms/step - loss: 0.0312 - accuracy: 0.9899 - val_loss: 0.0226 - val_accuracy: 0.9925\n",
            "Epoch 15/15\n",
            "469/469 [==============================] - 3s 5ms/step - loss: 0.0307 - accuracy: 0.9904 - val_loss: 0.0227 - val_accuracy: 0.9922\n"
          ]
        }
      ]
    },
    {
      "cell_type": "markdown",
      "metadata": {
        "id": "4uHN4KNdDC1T"
      },
      "source": [
        "### Plot learning curves"
      ]
    },
    {
      "cell_type": "code",
      "metadata": {
        "id": "yUdOrMVHDGIa",
        "colab": {
          "base_uri": "https://localhost:8080/",
          "height": 591
        },
        "outputId": "24dca3d7-a411-4496-bd02-5a8bae7861e8"
      },
      "source": [
        "# list all data in history\n",
        "print(history.history.keys())\n",
        "\n",
        "# summarize history for accuracy\n",
        "plt.plot(history.history['accuracy'])\n",
        "plt.plot(history.history['val_accuracy'])\n",
        "plt.title('model accuracy')\n",
        "plt.ylabel('accuracy')\n",
        "plt.xlabel('epoch')\n",
        "plt.legend(['train', 'test'], loc='upper left')\n",
        "plt.show()\n",
        "\n",
        "# summarize history for loss\n",
        "plt.plot(history.history['loss'])\n",
        "plt.plot(history.history['val_loss'])\n",
        "plt.title('model loss')\n",
        "plt.ylabel('loss')\n",
        "plt.xlabel('epoch')\n",
        "plt.legend(['train', 'test'], loc='upper left')\n",
        "plt.show()"
      ],
      "execution_count": null,
      "outputs": [
        {
          "output_type": "stream",
          "name": "stdout",
          "text": [
            "dict_keys(['loss', 'accuracy', 'val_loss', 'val_accuracy'])\n"
          ]
        },
        {
          "output_type": "display_data",
          "data": {
            "text/plain": [
              "<Figure size 432x288 with 1 Axes>"
            ],
            "image/png": "[encoded data removed]"
          },
          "metadata": {
            "needs_background": "light"
          }
        },
        {
          "output_type": "display_data",
          "data": {
            "text/plain": [
              "<Figure size 432x288 with 1 Axes>"
            ],
            "image/png": "[encoded data removed]"
          },
          "metadata": {
            "needs_background": "light"
          }
        }
      ]
    },
    {
      "cell_type": "markdown",
      "metadata": {
        "id": "oP7csjo2DGag"
      },
      "source": [
        "### Evaluate the model"
      ]
    },
    {
      "cell_type": "code",
      "metadata": {
        "id": "W86Hi07fDICp",
        "colab": {
          "base_uri": "https://localhost:8080/"
        },
        "outputId": "9e10852d-856c-49a9-d572-a0639cbfe3cb"
      },
      "source": [
        "model_cnn.evaluate(X_valid_cnn, y_validation)"
      ],
      "execution_count": null,
      "outputs": [
        {
          "output_type": "stream",
          "name": "stdout",
          "text": [
            "313/313 [==============================] - 1s 3ms/step - loss: 0.0227 - accuracy: 0.9922\n"
          ]
        },
        {
          "output_type": "execute_result",
          "data": {
            "text/plain": [
              "[0.02265302836894989, 0.9922000169754028]"
            ]
          },
          "metadata": {},
          "execution_count": 28
        }
      ]
    }
  ]
}